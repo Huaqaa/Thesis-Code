{
 "cells": [
  {
   "cell_type": "code",
   "execution_count": 1,
   "id": "92eea9e9",
   "metadata": {},
   "outputs": [],
   "source": [
    "import pandas as pd"
   ]
  },
  {
   "cell_type": "code",
   "execution_count": 2,
   "id": "9a315b31",
   "metadata": {},
   "outputs": [
    {
     "name": "stderr",
     "output_type": "stream",
     "text": [
      "C:\\Users\\asd00\\AppData\\Local\\Temp\\ipykernel_28068\\2000194068.py:3: DtypeWarning: Columns (3,7,14,15,16,17,18,21,22,24,25,28,29,30,32) have mixed types. Specify dtype option on import or set low_memory=False.\n",
      "  a1093 = pd.read_csv('1093.csv')\n",
      "C:\\Users\\asd00\\AppData\\Local\\Temp\\ipykernel_28068\\2000194068.py:4: DtypeWarning: Columns (3,7,14,15,16,17,18,21,22,24,25,28,29,30,32) have mixed types. Specify dtype option on import or set low_memory=False.\n",
      "  a1094 = pd.read_csv('1094.csv')\n"
     ]
    }
   ],
   "source": [
    "a1091 = pd.read_csv('1091.csv')\n",
    "a1092 = pd.read_csv('1092.csv')\n",
    "a1093 = pd.read_csv('1093.csv')\n",
    "a1094 = pd.read_csv('1094.csv')\n",
    "\n",
    "a1101 = pd.read_csv('1101.csv')\n",
    "a1102 = pd.read_csv('1102.csv')\n",
    "a1103 = pd.read_csv('1103.csv')\n",
    "a1104 = pd.read_csv('1104.csv')\n",
    "\n",
    "a1111 = pd.read_csv('1111.csv')\n",
    "a1112 = pd.read_csv('1112.csv')\n",
    "a1113 = pd.read_csv('1113.csv')\n",
    "a1114 = pd.read_csv('1114.csv')\n",
    "\n",
    "a1121 = pd.read_csv('1121.csv')\n",
    "a1122 = pd.read_csv('1122.csv')\n",
    "a1123 = pd.read_csv('1123.csv')\n",
    "a1124 = pd.read_csv('1124.csv')\n",
    "\n",
    "df = pd.concat([a1091,a1092,a1093,a1094,\n",
    "                a1101,a1102,a1103,a1104,\n",
    "                a1111,a1112,a1113,a1114,\n",
    "                a1121,a1122,a1123,a1124])"
   ]
  },
  {
   "cell_type": "code",
   "execution_count": 3,
   "id": "35f8da68",
   "metadata": {},
   "outputs": [
    {
     "name": "stdout",
     "output_type": "stream",
     "text": [
      "168550 50362\n"
     ]
    }
   ],
   "source": [
    "# 查看訓練集、驗證集原始資料長度\n",
    "q = pd.concat([a1091,a1092,a1093,a1094,\n",
    "                a1101,a1102,a1103,a1104,\n",
    "                a1111,a1112,a1113,a1114])\n",
    "p = pd.concat([a1121, a1122, a1123,a1124])\n",
    "\n",
    "print(len(q),len(p))"
   ]
  },
  {
   "cell_type": "code",
   "execution_count": 4,
   "id": "bf1a40da",
   "metadata": {},
   "outputs": [
    {
     "name": "stdout",
     "output_type": "stream",
     "text": [
      "<class 'pandas.core.frame.DataFrame'>\n",
      "Index: 218912 entries, 0 to 13141\n",
      "Data columns (total 33 columns):\n",
      " #   Column       Non-Null Count   Dtype \n",
      "---  ------       --------------   ----- \n",
      " 0   鄉鎮市區         218872 non-null  object\n",
      " 1   交易標的         218912 non-null  object\n",
      " 2   土地位置建物門牌     218912 non-null  object\n",
      " 3   土地移轉總面積平方公尺  218912 non-null  object\n",
      " 4   都市土地使用分區     186881 non-null  object\n",
      " 5   非都市土地使用分區    21293 non-null   object\n",
      " 6   非都市土地使用編定    21279 non-null   object\n",
      " 7   交易年月日        218912 non-null  object\n",
      " 8   交易筆棟數        218912 non-null  object\n",
      " 9   移轉層次         175953 non-null  object\n",
      " 10  總樓層數         175749 non-null  object\n",
      " 11  建物型態         218912 non-null  object\n",
      " 12  主要用途         175823 non-null  object\n",
      " 13  主要建材         175765 non-null  object\n",
      " 14  建築完成年月       175219 non-null  object\n",
      " 15  建物移轉總面積平方公尺  218912 non-null  object\n",
      " 16  建物現況格局-房     218912 non-null  object\n",
      " 17  建物現況格局-廳     218912 non-null  object\n",
      " 18  建物現況格局-衛     218912 non-null  object\n",
      " 19  建物現況格局-隔間    218912 non-null  object\n",
      " 20  有無管理組織       218912 non-null  object\n",
      " 21  總價元          218912 non-null  object\n",
      " 22  單價元平方公尺      216737 non-null  object\n",
      " 23  車位類別         101210 non-null  object\n",
      " 24  車位移轉總面積平方公尺  218912 non-null  object\n",
      " 25  車位總價元        218912 non-null  object\n",
      " 26  備註           109999 non-null  object\n",
      " 27  編號           218912 non-null  object\n",
      " 28  主建物面積        218912 non-null  object\n",
      " 29  附屬建物面積       218912 non-null  object\n",
      " 30  陽台面積         218912 non-null  object\n",
      " 31  電梯           187787 non-null  object\n",
      " 32  移轉編號         38778 non-null   object\n",
      "dtypes: object(33)\n",
      "memory usage: 56.8+ MB\n"
     ]
    }
   ],
   "source": [
    "df.info()"
   ]
  },
  {
   "cell_type": "code",
   "execution_count": 5,
   "id": "768051d8",
   "metadata": {},
   "outputs": [],
   "source": [
    "# 第0列為英文欄位名稱，故刪除資料第0列\n",
    "df = df.drop(0,axis=0)"
   ]
  },
  {
   "cell_type": "code",
   "execution_count": 6,
   "id": "169f7fd1",
   "metadata": {},
   "outputs": [],
   "source": [
    "# 要過濾掉總價元是0的資料，由於該欄位為字串型態，先將轉為浮點數(以便後續計算)，再過濾掉為0的資料\n",
    "df['總價元'] = df['總價元'].astype(float)\n",
    "df = df[df['總價元'] != 0]"
   ]
  },
  {
   "cell_type": "code",
   "execution_count": 7,
   "id": "0e5044aa",
   "metadata": {},
   "outputs": [
    {
     "name": "stdout",
     "output_type": "stream",
     "text": [
      "<class 'pandas.core.frame.DataFrame'>\n",
      "Index: 218829 entries, 1 to 13141\n",
      "Data columns (total 33 columns):\n",
      " #   Column       Non-Null Count   Dtype  \n",
      "---  ------       --------------   -----  \n",
      " 0   鄉鎮市區         218789 non-null  object \n",
      " 1   交易標的         218829 non-null  object \n",
      " 2   土地位置建物門牌     218829 non-null  object \n",
      " 3   土地移轉總面積平方公尺  218829 non-null  object \n",
      " 4   都市土地使用分區     186798 non-null  object \n",
      " 5   非都市土地使用分區    21277 non-null   object \n",
      " 6   非都市土地使用編定    21263 non-null   object \n",
      " 7   交易年月日        218829 non-null  object \n",
      " 8   交易筆棟數        218829 non-null  object \n",
      " 9   移轉層次         175929 non-null  object \n",
      " 10  總樓層數         175725 non-null  object \n",
      " 11  建物型態         218829 non-null  object \n",
      " 12  主要用途         175799 non-null  object \n",
      " 13  主要建材         175741 non-null  object \n",
      " 14  建築完成年月       175196 non-null  object \n",
      " 15  建物移轉總面積平方公尺  218829 non-null  object \n",
      " 16  建物現況格局-房     218829 non-null  object \n",
      " 17  建物現況格局-廳     218829 non-null  object \n",
      " 18  建物現況格局-衛     218829 non-null  object \n",
      " 19  建物現況格局-隔間    218829 non-null  object \n",
      " 20  有無管理組織       218829 non-null  object \n",
      " 21  總價元          218829 non-null  float64\n",
      " 22  單價元平方公尺      216654 non-null  object \n",
      " 23  車位類別         101194 non-null  object \n",
      " 24  車位移轉總面積平方公尺  218829 non-null  object \n",
      " 25  車位總價元        218829 non-null  object \n",
      " 26  備註           109925 non-null  object \n",
      " 27  編號           218829 non-null  object \n",
      " 28  主建物面積        218829 non-null  object \n",
      " 29  附屬建物面積       218829 non-null  object \n",
      " 30  陽台面積         218829 non-null  object \n",
      " 31  電梯           187707 non-null  object \n",
      " 32  移轉編號         38729 non-null   object \n",
      "dtypes: float64(1), object(32)\n",
      "memory usage: 56.8+ MB\n"
     ]
    }
   ],
   "source": [
    "df.info()"
   ]
  },
  {
   "cell_type": "code",
   "execution_count": 8,
   "id": "64fbcf11",
   "metadata": {},
   "outputs": [],
   "source": [
    "df.dropna(subset=['交易年月日','建築完成年月'], inplace=True)"
   ]
  },
  {
   "cell_type": "code",
   "execution_count": 9,
   "id": "9f7e6314",
   "metadata": {},
   "outputs": [],
   "source": [
    "import re\n",
    "def is_valid_date(date_str):\n",
    "  date_pattern = r'^\\d{6,7}$'\n",
    "  return bool(re.match(date_pattern, date_str))"
   ]
  },
  {
   "cell_type": "code",
   "execution_count": 10,
   "id": "59130677",
   "metadata": {},
   "outputs": [],
   "source": [
    "df['建築完成年月'] = df['建築完成年月'].astype(str)\n",
    "df['交易年月日'] = df['交易年月日'].astype(str)\n",
    "df = df[df['建築完成年月'].apply(is_valid_date)]\n",
    "df = df[df['交易年月日'].apply(is_valid_date)]"
   ]
  },
  {
   "cell_type": "code",
   "execution_count": 11,
   "id": "4b1130cb",
   "metadata": {},
   "outputs": [],
   "source": [
    "df['建築完成年月'] = df['建築完成年月'].apply(lambda x: pd.to_datetime(str(int(x) + 19110000), format='%Y%m%d', errors='coerce'))\n",
    "df['交易年月日'] = df['交易年月日'].apply(lambda x: pd.to_datetime(str(int(x) + 19110000), format='%Y%m%d', errors='coerce'))"
   ]
  },
  {
   "cell_type": "code",
   "execution_count": 12,
   "id": "ed4709c3",
   "metadata": {},
   "outputs": [],
   "source": [
    "train_start = '2020-01-01'\n",
    "train_end= '2022-12-31'\n",
    "\n",
    "df1 = df[(df['交易年月日'] >= train_start) & (df['交易年月日'] <= train_end)]"
   ]
  },
  {
   "cell_type": "code",
   "execution_count": 13,
   "id": "37617ae7",
   "metadata": {},
   "outputs": [],
   "source": [
    "valid_start = '2023-01-01'\n",
    "valid_end = '2023-12-31'\n",
    "\n",
    "df2 = df[(df['交易年月日'] >= valid_start) & (df['交易年月日'] <= valid_end)]"
   ]
  },
  {
   "cell_type": "code",
   "execution_count": 14,
   "id": "f43831f9",
   "metadata": {},
   "outputs": [
    {
     "name": "stdout",
     "output_type": "stream",
     "text": [
      "<class 'pandas.core.frame.DataFrame'>\n",
      "Index: 115664 entries, 1 to 12743\n",
      "Data columns (total 33 columns):\n",
      " #   Column       Non-Null Count   Dtype         \n",
      "---  ------       --------------   -----         \n",
      " 0   鄉鎮市區         115664 non-null  object        \n",
      " 1   交易標的         115664 non-null  object        \n",
      " 2   土地位置建物門牌     115664 non-null  object        \n",
      " 3   土地移轉總面積平方公尺  115664 non-null  object        \n",
      " 4   都市土地使用分區     104079 non-null  object        \n",
      " 5   非都市土地使用分區    7237 non-null    object        \n",
      " 6   非都市土地使用編定    7233 non-null    object        \n",
      " 7   交易年月日        115664 non-null  datetime64[ns]\n",
      " 8   交易筆棟數        115664 non-null  object        \n",
      " 9   移轉層次         115663 non-null  object        \n",
      " 10  總樓層數         115640 non-null  object        \n",
      " 11  建物型態         115664 non-null  object        \n",
      " 12  主要用途         115655 non-null  object        \n",
      " 13  主要建材         115658 non-null  object        \n",
      " 14  建築完成年月       115487 non-null  datetime64[ns]\n",
      " 15  建物移轉總面積平方公尺  115664 non-null  object        \n",
      " 16  建物現況格局-房     115664 non-null  object        \n",
      " 17  建物現況格局-廳     115664 non-null  object        \n",
      " 18  建物現況格局-衛     115664 non-null  object        \n",
      " 19  建物現況格局-隔間    115664 non-null  object        \n",
      " 20  有無管理組織       115664 non-null  object        \n",
      " 21  總價元          115664 non-null  float64       \n",
      " 22  單價元平方公尺      115174 non-null  object        \n",
      " 23  車位類別         60071 non-null   object        \n",
      " 24  車位移轉總面積平方公尺  115664 non-null  object        \n",
      " 25  車位總價元        115664 non-null  object        \n",
      " 26  備註           54398 non-null   object        \n",
      " 27  編號           115664 non-null  object        \n",
      " 28  主建物面積        115664 non-null  object        \n",
      " 29  附屬建物面積       115664 non-null  object        \n",
      " 30  陽台面積         115664 non-null  object        \n",
      " 31  電梯           104752 non-null  object        \n",
      " 32  移轉編號         18371 non-null   object        \n",
      "dtypes: datetime64[ns](2), float64(1), object(30)\n",
      "memory usage: 30.0+ MB\n",
      "<class 'pandas.core.frame.DataFrame'>\n",
      "Index: 21102 entries, 1 to 9033\n",
      "Data columns (total 33 columns):\n",
      " #   Column       Non-Null Count  Dtype         \n",
      "---  ------       --------------  -----         \n",
      " 0   鄉鎮市區         21102 non-null  object        \n",
      " 1   交易標的         21102 non-null  object        \n",
      " 2   土地位置建物門牌     21102 non-null  object        \n",
      " 3   土地移轉總面積平方公尺  21102 non-null  object        \n",
      " 4   都市土地使用分區     19159 non-null  object        \n",
      " 5   非都市土地使用分區    1343 non-null   object        \n",
      " 6   非都市土地使用編定    1341 non-null   object        \n",
      " 7   交易年月日        21102 non-null  datetime64[ns]\n",
      " 8   交易筆棟數        21102 non-null  object        \n",
      " 9   移轉層次         21102 non-null  object        \n",
      " 10  總樓層數         21100 non-null  object        \n",
      " 11  建物型態         21102 non-null  object        \n",
      " 12  主要用途         21100 non-null  object        \n",
      " 13  主要建材         21101 non-null  object        \n",
      " 14  建築完成年月       21041 non-null  datetime64[ns]\n",
      " 15  建物移轉總面積平方公尺  21102 non-null  object        \n",
      " 16  建物現況格局-房     21102 non-null  object        \n",
      " 17  建物現況格局-廳     21102 non-null  object        \n",
      " 18  建物現況格局-衛     21102 non-null  object        \n",
      " 19  建物現況格局-隔間    21102 non-null  object        \n",
      " 20  有無管理組織       21102 non-null  object        \n",
      " 21  總價元          21102 non-null  float64       \n",
      " 22  單價元平方公尺      20990 non-null  object        \n",
      " 23  車位類別         9465 non-null   object        \n",
      " 24  車位移轉總面積平方公尺  21102 non-null  object        \n",
      " 25  車位總價元        21102 non-null  object        \n",
      " 26  備註           8212 non-null   object        \n",
      " 27  編號           21102 non-null  object        \n",
      " 28  主建物面積        21102 non-null  object        \n",
      " 29  附屬建物面積       21102 non-null  object        \n",
      " 30  陽台面積         21102 non-null  object        \n",
      " 31  電梯           21102 non-null  object        \n",
      " 32  移轉編號         7622 non-null   object        \n",
      "dtypes: datetime64[ns](2), float64(1), object(30)\n",
      "memory usage: 5.5+ MB\n"
     ]
    },
    {
     "data": {
      "text/plain": [
       "(None, None)"
      ]
     },
     "execution_count": 14,
     "metadata": {},
     "output_type": "execute_result"
    }
   ],
   "source": [
    "df1.info(), df2.info()"
   ]
  },
  {
   "cell_type": "code",
   "execution_count": 15,
   "id": "f069aa7d",
   "metadata": {},
   "outputs": [],
   "source": [
    "# 刪除重複的值\n",
    "df1 = df1.drop_duplicates()\n",
    "df2 = df2.drop_duplicates()"
   ]
  },
  {
   "cell_type": "code",
   "execution_count": 16,
   "id": "0c3608e0",
   "metadata": {},
   "outputs": [],
   "source": [
    "# 將 '都市土地使用分區' 分類成 '住','商','農','工','其他'\n",
    "mapping = {'住':'住','商':'商','農':'農','工':'工'}\n",
    "df1['都市土地使用分區'] = df1['都市土地使用分區'].map(mapping)\n",
    "df1['都市土地使用分區'].fillna('其他', inplace=True)\n",
    "\n",
    "df2['都市土地使用分區'] = df2['都市土地使用分區'].map(mapping)\n",
    "df2['都市土地使用分區'].fillna('其他', inplace=True)"
   ]
  },
  {
   "cell_type": "code",
   "execution_count": 17,
   "id": "5b777894",
   "metadata": {},
   "outputs": [
    {
     "data": {
      "text/plain": [
       "(array(['住', '商', '其他', '農', '工'], dtype=object),\n",
       " array(['住', '其他', '商', '農', '工'], dtype=object))"
      ]
     },
     "execution_count": 17,
     "metadata": {},
     "output_type": "execute_result"
    }
   ],
   "source": [
    "# check\n",
    "df1['都市土地使用分區'].unique(), df2['都市土地使用分區'].unique()"
   ]
  },
  {
   "cell_type": "code",
   "execution_count": 18,
   "id": "8656bd48",
   "metadata": {},
   "outputs": [],
   "source": [
    "# 刪除土地交易，因為搜尋不到經緯度，不便後續進行\n",
    "df1 = df1[df1['交易標的'] != '土地']\n",
    "df2 = df2[df2['交易標的'] != '土地']"
   ]
  },
  {
   "cell_type": "code",
   "execution_count": 19,
   "id": "84576797",
   "metadata": {},
   "outputs": [],
   "source": [
    "# 將交易筆棟數拆分成土地 & 建物 & 車位數量\n",
    "df1['土地數量'] = df1['交易筆棟數'].str.extract(r'土地(\\d+)')[0].astype(int)\n",
    "df1['建物數量'] = df1['交易筆棟數'].str.extract(r'建物(\\d+)')[0].astype(int)\n",
    "df1['車位數量'] = df1['交易筆棟數'].str.extract(r'車位(\\d+)')[0].astype(int)\n",
    "\n",
    "df2['土地數量'] = df2['交易筆棟數'].str.extract(r'土地(\\d+)')[0].astype(int)\n",
    "df2['建物數量'] = df2['交易筆棟數'].str.extract(r'建物(\\d+)')[0].astype(int)\n",
    "df2['車位數量'] = df2['交易筆棟數'].str.extract(r'車位(\\d+)')[0].astype(int)"
   ]
  },
  {
   "cell_type": "code",
   "execution_count": 20,
   "id": "aa2a9527",
   "metadata": {},
   "outputs": [
    {
     "data": {
      "text/plain": [
       "(1, 1, 0, '土地1建物1車位0')"
      ]
     },
     "execution_count": 20,
     "metadata": {},
     "output_type": "execute_result"
    }
   ],
   "source": [
    "#check\n",
    "k=7\n",
    "df1['土地數量'].iloc[k], df1['建物數量'].iloc[k], df1['車位數量'].iloc[k],df1['交易筆棟數'].iloc[k]"
   ]
  },
  {
   "cell_type": "code",
   "execution_count": 21,
   "id": "d388ea4f",
   "metadata": {},
   "outputs": [
    {
     "name": "stdout",
     "output_type": "stream",
     "text": [
      "<class 'pandas.core.frame.DataFrame'>\n",
      "Index: 115553 entries, 1 to 12743\n",
      "Data columns (total 36 columns):\n",
      " #   Column       Non-Null Count   Dtype         \n",
      "---  ------       --------------   -----         \n",
      " 0   鄉鎮市區         115553 non-null  object        \n",
      " 1   交易標的         115553 non-null  object        \n",
      " 2   土地位置建物門牌     115553 non-null  object        \n",
      " 3   土地移轉總面積平方公尺  115553 non-null  object        \n",
      " 4   都市土地使用分區     115553 non-null  object        \n",
      " 5   非都市土地使用分區    7211 non-null    object        \n",
      " 6   非都市土地使用編定    7207 non-null    object        \n",
      " 7   交易年月日        115553 non-null  datetime64[ns]\n",
      " 8   交易筆棟數        115553 non-null  object        \n",
      " 9   移轉層次         115552 non-null  object        \n",
      " 10  總樓層數         115529 non-null  object        \n",
      " 11  建物型態         115553 non-null  object        \n",
      " 12  主要用途         115544 non-null  object        \n",
      " 13  主要建材         115547 non-null  object        \n",
      " 14  建築完成年月       115376 non-null  datetime64[ns]\n",
      " 15  建物移轉總面積平方公尺  115553 non-null  object        \n",
      " 16  建物現況格局-房     115553 non-null  object        \n",
      " 17  建物現況格局-廳     115553 non-null  object        \n",
      " 18  建物現況格局-衛     115553 non-null  object        \n",
      " 19  建物現況格局-隔間    115553 non-null  object        \n",
      " 20  有無管理組織       115553 non-null  object        \n",
      " 21  總價元          115553 non-null  float64       \n",
      " 22  單價元平方公尺      115063 non-null  object        \n",
      " 23  車位類別         60070 non-null   object        \n",
      " 24  車位移轉總面積平方公尺  115553 non-null  object        \n",
      " 25  車位總價元        115553 non-null  object        \n",
      " 26  備註           54342 non-null   object        \n",
      " 27  編號           115553 non-null  object        \n",
      " 28  主建物面積        115553 non-null  object        \n",
      " 29  附屬建物面積       115553 non-null  object        \n",
      " 30  陽台面積         115553 non-null  object        \n",
      " 31  電梯           104641 non-null  object        \n",
      " 32  移轉編號         18340 non-null   object        \n",
      " 33  土地數量         115553 non-null  int32         \n",
      " 34  建物數量         115553 non-null  int32         \n",
      " 35  車位數量         115553 non-null  int32         \n",
      "dtypes: datetime64[ns](2), float64(1), int32(3), object(30)\n",
      "memory usage: 31.3+ MB\n",
      "<class 'pandas.core.frame.DataFrame'>\n",
      "Index: 21087 entries, 1 to 9033\n",
      "Data columns (total 36 columns):\n",
      " #   Column       Non-Null Count  Dtype         \n",
      "---  ------       --------------  -----         \n",
      " 0   鄉鎮市區         21087 non-null  object        \n",
      " 1   交易標的         21087 non-null  object        \n",
      " 2   土地位置建物門牌     21087 non-null  object        \n",
      " 3   土地移轉總面積平方公尺  21087 non-null  object        \n",
      " 4   都市土地使用分區     21087 non-null  object        \n",
      " 5   非都市土地使用分區    1337 non-null   object        \n",
      " 6   非都市土地使用編定    1335 non-null   object        \n",
      " 7   交易年月日        21087 non-null  datetime64[ns]\n",
      " 8   交易筆棟數        21087 non-null  object        \n",
      " 9   移轉層次         21087 non-null  object        \n",
      " 10  總樓層數         21085 non-null  object        \n",
      " 11  建物型態         21087 non-null  object        \n",
      " 12  主要用途         21085 non-null  object        \n",
      " 13  主要建材         21086 non-null  object        \n",
      " 14  建築完成年月       21026 non-null  datetime64[ns]\n",
      " 15  建物移轉總面積平方公尺  21087 non-null  object        \n",
      " 16  建物現況格局-房     21087 non-null  object        \n",
      " 17  建物現況格局-廳     21087 non-null  object        \n",
      " 18  建物現況格局-衛     21087 non-null  object        \n",
      " 19  建物現況格局-隔間    21087 non-null  object        \n",
      " 20  有無管理組織       21087 non-null  object        \n",
      " 21  總價元          21087 non-null  float64       \n",
      " 22  單價元平方公尺      20975 non-null  object        \n",
      " 23  車位類別         9465 non-null   object        \n",
      " 24  車位移轉總面積平方公尺  21087 non-null  object        \n",
      " 25  車位總價元        21087 non-null  object        \n",
      " 26  備註           8200 non-null   object        \n",
      " 27  編號           21087 non-null  object        \n",
      " 28  主建物面積        21087 non-null  object        \n",
      " 29  附屬建物面積       21087 non-null  object        \n",
      " 30  陽台面積         21087 non-null  object        \n",
      " 31  電梯           21087 non-null  object        \n",
      " 32  移轉編號         7614 non-null   object        \n",
      " 33  土地數量         21087 non-null  int32         \n",
      " 34  建物數量         21087 non-null  int32         \n",
      " 35  車位數量         21087 non-null  int32         \n",
      "dtypes: datetime64[ns](2), float64(1), int32(3), object(30)\n",
      "memory usage: 5.7+ MB\n"
     ]
    },
    {
     "data": {
      "text/plain": [
       "(None, None)"
      ]
     },
     "execution_count": 21,
     "metadata": {},
     "output_type": "execute_result"
    }
   ],
   "source": [
    "df1.info(),df2.info()"
   ]
  },
  {
   "cell_type": "code",
   "execution_count": null,
   "id": "0ec6faf8",
   "metadata": {},
   "outputs": [],
   "source": [
    "df1['主要用途']"
   ]
  },
  {
   "cell_type": "code",
   "execution_count": 27,
   "id": "bd85f33d",
   "metadata": {},
   "outputs": [],
   "source": [
    "# 過濾掉不是 '住家用' 之主要用途\n",
    "df1 = df1[df1['主要用途'] == '住家用']\n",
    "df2 = df2[df2['主要用途'] == '住家用']"
   ]
  },
  {
   "cell_type": "code",
   "execution_count": 28,
   "id": "82a2833e",
   "metadata": {},
   "outputs": [],
   "source": [
    "# 先刪除對資料預測沒影響或太多空白值的變數\n",
    "# 因車位類別遺失值過多，故不考慮有關車位之欄位\n",
    "# 交易標的與交易筆棟數重複\n",
    "# 交易筆棟數已完成分割，故刪除\n",
    "# 主要用途已過濾成住家用，故刪除\n",
    "df1 = df1.drop(['非都市土地使用分區','非都市土地使用編定','交易標的','交易筆棟數',\n",
    "               '單價元平方公尺','備註','編號','電梯','車位類別','車位移轉總面積平方公尺','車位總價元','移轉編號','主要用途','車位數量'],axis=1)\n",
    "\n",
    "df2 = df2.drop(['非都市土地使用分區','非都市土地使用編定','交易標的','交易筆棟數',\n",
    "               '單價元平方公尺','備註','編號','電梯','車位類別','車位移轉總面積平方公尺','車位總價元','移轉編號','主要用途','車位數量'],axis=1)"
   ]
  },
  {
   "cell_type": "code",
   "execution_count": 29,
   "id": "eeeb6255",
   "metadata": {},
   "outputs": [],
   "source": [
    "# 導入人口數據，跳過空行\n",
    "population111 = pd.read_csv('臺中市111人口.csv',skiprows=[0])\n",
    "population112 = pd.read_csv('臺中市112人口.csv',skiprows=[0])\n",
    "\n",
    "# 預先扣除該資料總人口數 再運算一次\n",
    "population111 = population111[['區域別','總計']][1:]\n",
    "population112 = population112[['區域別','總計']][1:]"
   ]
  },
  {
   "cell_type": "code",
   "execution_count": 30,
   "id": "8376faba",
   "metadata": {},
   "outputs": [
    {
     "data": {
      "text/plain": [
       "(97050, 98134)"
      ]
     },
     "execution_count": 30,
     "metadata": {},
     "output_type": "execute_result"
    }
   ],
   "source": [
    "# 計算總人口數與平均\n",
    "t1, t2 = population111['總計'].to_list(), population112['總計'].to_list()\n",
    "t1, t2 = [int(i.replace(',', '').strip()) for i in t1], [int(j.replace(',', '').strip()) for j in t2]\n",
    "avg1, avg2 = sum(t1)//len(t1), sum(t2)//len(t2)\n",
    "avg1, avg2"
   ]
  },
  {
   "cell_type": "code",
   "execution_count": 31,
   "id": "82a56f87",
   "metadata": {},
   "outputs": [
    {
     "data": {
      "text/plain": [
       "(2814459, 2845909)"
      ]
     },
     "execution_count": 31,
     "metadata": {},
     "output_type": "execute_result"
    }
   ],
   "source": [
    "sum(t1), sum(t2)"
   ]
  },
  {
   "cell_type": "code",
   "execution_count": 32,
   "id": "cf03b4d2",
   "metadata": {},
   "outputs": [],
   "source": [
    "# 先處理總計部分的空白元素\n",
    "population111['總計'] = population111['總計'].str.replace(',', '').astype(int)\n",
    "population112['總計'] = population112['總計'].str.replace(',', '').astype(int)\n",
    "\n",
    "# 再依總人口數又大到小排列\n",
    "sorted_population111 = population111.sort_values(by='總計',ascending=False)\n",
    "sorted_population112 = population112.sort_values(by='總計',ascending=False)"
   ]
  },
  {
   "cell_type": "code",
   "execution_count": 33,
   "id": "ab7c1077",
   "metadata": {},
   "outputs": [
    {
     "name": "stdout",
     "output_type": "stream",
     "text": [
      "    區域別      總計\n",
      "8   北屯區  295677\n",
      "6   西屯區  231866\n",
      "28  大里區  211469\n",
      "27  太平區  196011\n",
      "7   南屯區  177930\n",
      "9   豐原區  163476\n",
      "5    北區  142778\n",
      "3    南區  125466\n",
      "4    西區  112278\n",
      "17  潭子區  108639\n",
      "13  沙鹿區   97002\n",
      "18  大雅區   95275\n",
      "12  清水區   88947\n",
      "23  烏日區   78122\n",
      "25  龍井區   77887\n",
      "2    東區   75554\n",
      "11  大甲區   74737\n",
      "16  神岡區   64308\n",
      "26  霧峰區   64091\n",
      "14  梧棲區   59848\n",
      "24  大肚區   56129\n",
      "15  后里區   53667\n",
      "10  東勢區   47817\n",
      "21  外埔區   31264\n",
      "19  新社區   23283\n",
      "22  大安區   18230\n",
      "1    中區   17635\n",
      "20  石岡區   14154\n",
      "29  和平區   10919\n",
      "\n",
      "    區域別      總計\n",
      "8   北屯區  304179\n",
      "6   西屯區  235441\n",
      "28  大里區  212511\n",
      "27  太平區  198212\n",
      "7   南屯區  182232\n",
      "9   豐原區  163948\n",
      "5    北區  144097\n",
      "3    南區  126907\n",
      "4    西區  113548\n",
      "17  潭子區  108979\n",
      "13  沙鹿區   98805\n",
      "18  大雅區   95708\n",
      "12  清水區   89924\n",
      "23  烏日區   80194\n",
      "25  龍井區   78413\n",
      "2    東區   76852\n",
      "11  大甲區   74684\n",
      "16  神岡區   64362\n",
      "26  霧峰區   63822\n",
      "14  梧棲區   61019\n",
      "24  大肚區   55955\n",
      "15  后里區   53653\n",
      "10  東勢區   47468\n",
      "21  外埔區   31163\n",
      "19  新社區   23089\n",
      "22  大安區   18073\n",
      "1    中區   17784\n",
      "20  石岡區   14093\n",
      "29  和平區   10794\n"
     ]
    }
   ],
   "source": [
    "# check\n",
    "print(sorted_population111)\n",
    "print()\n",
    "print(sorted_population112)"
   ]
  },
  {
   "cell_type": "code",
   "execution_count": 34,
   "id": "0b2cd901",
   "metadata": {},
   "outputs": [
    {
     "name": "stdout",
     "output_type": "stream",
     "text": [
      "['北屯區', '西屯區', '大里區', '太平區', '南屯區', '豐原區', '北區', '南區', '西區', '潭子區']\n",
      "\n",
      "['北屯區', '西屯區', '大里區', '太平區', '南屯區', '豐原區', '北區', '南區', '西區', '潭子區', '沙鹿區']\n"
     ]
    }
   ],
   "source": [
    "# 將大於平均數的行政區取出\n",
    "top_population111 = sorted_population111[sorted_population111['總計'] >= avg1]\n",
    "new_population111 = top_population111['區域別'].tolist()\n",
    "\n",
    "top_population112 = sorted_population112[sorted_population112['總計'] >= avg1]\n",
    "new_population112 = top_population112['區域別'].tolist()\n",
    "\n",
    "print(new_population111)\n",
    "print()\n",
    "print(new_population112)"
   ]
  },
  {
   "cell_type": "code",
   "execution_count": 35,
   "id": "8b4532c7",
   "metadata": {},
   "outputs": [],
   "source": [
    "# 將地址統一為 '臺中市' + XXXXXXXXXXXXXXX\n",
    "def replace_missing_district(row):\n",
    "    if row['鄉鎮市區'] not in row['土地位置建物門牌']:\n",
    "        row['土地位置建物門牌'] = '臺中市' + row['鄉鎮市區'] + row['土地位置建物門牌']\n",
    "    return row"
   ]
  },
  {
   "cell_type": "code",
   "execution_count": 36,
   "id": "fcfbe648",
   "metadata": {},
   "outputs": [],
   "source": [
    "df1['鄉鎮市區'] = df1['鄉鎮市區'].astype(str)\n",
    "df1['土地位置建物門牌'] = df1['土地位置建物門牌'].astype(str)\n",
    "df1 = df1.apply(replace_missing_district, axis=1)\n",
    "df1['鄉鎮市區'] = df1['鄉鎮市區'].str.replace('台中市', '臺中市')\n",
    "\n",
    "df2['鄉鎮市區'] = df2['鄉鎮市區'].astype(str)\n",
    "df2['土地位置建物門牌'] = df2['土地位置建物門牌'].astype(str)\n",
    "df2 = df2.apply(replace_missing_district, axis=1)\n",
    "df2['鄉鎮市區'] = df2['鄉鎮市區'].str.replace('台中市', '臺中市')"
   ]
  },
  {
   "cell_type": "code",
   "execution_count": 37,
   "id": "e50ad5c4",
   "metadata": {},
   "outputs": [],
   "source": [
    "df1['鄉鎮市區'] = df1['鄉鎮市區'].apply(lambda x:x if x in new_population111 else '其他')\n",
    "df2['鄉鎮市區'] = df2['鄉鎮市區'].apply(lambda y:y if y in new_population112 else '其他')"
   ]
  },
  {
   "cell_type": "code",
   "execution_count": 38,
   "id": "c3a037a6",
   "metadata": {},
   "outputs": [],
   "source": [
    "# 將'其他'新增至 大於平均的行政區中\n",
    "new_population111.append('其他')\n",
    "\n",
    "# 建立一個分類器\n",
    "cat_dtype111 = pd.CategoricalDtype(categories=new_population111, ordered=True)\n",
    "\n",
    "# 將原資料依人口數由大到小排列\n",
    "df1['鄉鎮市區'] = df1['鄉鎮市區'].astype(cat_dtype111)\n",
    "df1 = df1.sort_values(by='鄉鎮市區')"
   ]
  },
  {
   "cell_type": "code",
   "execution_count": 39,
   "id": "212f01f6",
   "metadata": {},
   "outputs": [],
   "source": [
    "# 將'其他'新增至 大於平均的行政區中\n",
    "new_population112.append('其他')\n",
    "\n",
    "# 建立一個分類器\n",
    "cat_dtype112 = pd.CategoricalDtype(categories=new_population112, ordered=True)\n",
    "\n",
    "# 將原資料依人口數由大到小排列\n",
    "df2['鄉鎮市區'] = df2['鄉鎮市區'].astype(cat_dtype112)\n",
    "df2 = df2.sort_values(by='鄉鎮市區')"
   ]
  },
  {
   "cell_type": "code",
   "execution_count": 40,
   "id": "9e061673",
   "metadata": {},
   "outputs": [
    {
     "name": "stdout",
     "output_type": "stream",
     "text": [
      "<class 'pandas.core.frame.DataFrame'>\n",
      "Index: 99802 entries, 1547 to 1\n",
      "Data columns (total 22 columns):\n",
      " #   Column       Non-Null Count  Dtype         \n",
      "---  ------       --------------  -----         \n",
      " 0   鄉鎮市區         99802 non-null  category      \n",
      " 1   土地位置建物門牌     99802 non-null  object        \n",
      " 2   土地移轉總面積平方公尺  99802 non-null  object        \n",
      " 3   都市土地使用分區     99802 non-null  object        \n",
      " 4   交易年月日        99802 non-null  datetime64[ns]\n",
      " 5   移轉層次         99802 non-null  object        \n",
      " 6   總樓層數         99795 non-null  object        \n",
      " 7   建物型態         99802 non-null  object        \n",
      " 8   主要建材         99798 non-null  object        \n",
      " 9   建築完成年月       99675 non-null  datetime64[ns]\n",
      " 10  建物移轉總面積平方公尺  99802 non-null  object        \n",
      " 11  建物現況格局-房     99802 non-null  object        \n",
      " 12  建物現況格局-廳     99802 non-null  object        \n",
      " 13  建物現況格局-衛     99802 non-null  object        \n",
      " 14  建物現況格局-隔間    99802 non-null  object        \n",
      " 15  有無管理組織       99802 non-null  object        \n",
      " 16  總價元          99802 non-null  float64       \n",
      " 17  主建物面積        99802 non-null  object        \n",
      " 18  附屬建物面積       99802 non-null  object        \n",
      " 19  陽台面積         99802 non-null  object        \n",
      " 20  土地數量         99802 non-null  int64         \n",
      " 21  建物數量         99802 non-null  int64         \n",
      "dtypes: category(1), datetime64[ns](2), float64(1), int64(2), object(16)\n",
      "memory usage: 16.8+ MB\n",
      "<class 'pandas.core.frame.DataFrame'>\n",
      "Index: 17512 entries, 8061 to 3470\n",
      "Data columns (total 22 columns):\n",
      " #   Column       Non-Null Count  Dtype         \n",
      "---  ------       --------------  -----         \n",
      " 0   鄉鎮市區         17512 non-null  category      \n",
      " 1   土地位置建物門牌     17512 non-null  object        \n",
      " 2   土地移轉總面積平方公尺  17512 non-null  object        \n",
      " 3   都市土地使用分區     17512 non-null  object        \n",
      " 4   交易年月日        17512 non-null  datetime64[ns]\n",
      " 5   移轉層次         17512 non-null  object        \n",
      " 6   總樓層數         17510 non-null  object        \n",
      " 7   建物型態         17512 non-null  object        \n",
      " 8   主要建材         17511 non-null  object        \n",
      " 9   建築完成年月       17471 non-null  datetime64[ns]\n",
      " 10  建物移轉總面積平方公尺  17512 non-null  object        \n",
      " 11  建物現況格局-房     17512 non-null  object        \n",
      " 12  建物現況格局-廳     17512 non-null  object        \n",
      " 13  建物現況格局-衛     17512 non-null  object        \n",
      " 14  建物現況格局-隔間    17512 non-null  object        \n",
      " 15  有無管理組織       17512 non-null  object        \n",
      " 16  總價元          17512 non-null  float64       \n",
      " 17  主建物面積        17512 non-null  object        \n",
      " 18  附屬建物面積       17512 non-null  object        \n",
      " 19  陽台面積         17512 non-null  object        \n",
      " 20  土地數量         17512 non-null  int64         \n",
      " 21  建物數量         17512 non-null  int64         \n",
      "dtypes: category(1), datetime64[ns](2), float64(1), int64(2), object(16)\n",
      "memory usage: 3.0+ MB\n"
     ]
    },
    {
     "data": {
      "text/plain": [
       "(None, None)"
      ]
     },
     "execution_count": 40,
     "metadata": {},
     "output_type": "execute_result"
    }
   ],
   "source": [
    "# check\n",
    "df1.info(), df2.info()"
   ]
  },
  {
   "cell_type": "code",
   "execution_count": 41,
   "id": "85a66540",
   "metadata": {},
   "outputs": [],
   "source": [
    "df1['交易年月日'] = pd.to_datetime(df1['交易年月日'])\n",
    "df1['建築完成年月'] = pd.to_datetime(df1['建築完成年月'])\n",
    "\n",
    "df2['交易年月日'] = pd.to_datetime(df2['交易年月日'])\n",
    "df2['建築完成年月'] = pd.to_datetime(df2['建築完成年月'])\n",
    "\n",
    "# 新增一筆欄位'屋齡' 以年為單位,並取到小數點第一位\n",
    "df1['屋齡'] = ((df1['交易年月日'] - df1['建築完成年月']).dt.days / 365.0).round(1)\n",
    "df2['屋齡'] = ((df2['交易年月日'] - df2['建築完成年月']).dt.days / 365.0).round(1)"
   ]
  },
  {
   "cell_type": "code",
   "execution_count": 42,
   "id": "065296fd",
   "metadata": {},
   "outputs": [],
   "source": [
    "# 發現有負值，可能表示是預售屋，於是將所有負值的欄位刪除\n",
    "df1 = df1[df1['屋齡'] >= 0]\n",
    "\n",
    "df2 = df2[df2['屋齡'] >= 0]"
   ]
  },
  {
   "cell_type": "code",
   "execution_count": 43,
   "id": "b449652a",
   "metadata": {},
   "outputs": [],
   "source": [
    "# 處理 '總樓層數' 的值 , 如果是nan，(空白)，見其他登記事項 先替換成0, 之後經緯度座標轉換完成會刪除\n",
    "df1['總樓層數'].fillna(0, inplace=True)\n",
    "df2['總樓層數'].fillna(0, inplace=True)"
   ]
  },
  {
   "cell_type": "code",
   "execution_count": 44,
   "id": "722df8e4",
   "metadata": {},
   "outputs": [],
   "source": [
    "# 將'總樓層數' 替換成數字\n",
    "chinese_numbers = {\n",
    "    '一': 1,\n",
    "    '二': 2,\n",
    "    '三': 3,\n",
    "    '四': 4,\n",
    "    '五': 5,\n",
    "    '六': 6,\n",
    "    '七': 7,\n",
    "    '八': 8,\n",
    "    '九': 9,\n",
    "    '十': 10\n",
    "}\n",
    "def chinese_to_number(chinese_str):\n",
    "  if chinese_str == '見其他登記事項':\n",
    "    return 0\n",
    "  elif chinese_str == '(空白)':\n",
    "    return 0\n",
    "  elif chinese_str == 0:\n",
    "    pass\n",
    "  else:\n",
    "    if '層' in chinese_str:\n",
    "      chinese_str = chinese_str.replace('層','')\n",
    "    if len(chinese_str) == 1:\n",
    "      return chinese_numbers[chinese_str]\n",
    "    if len(chinese_str) == 2:\n",
    "      if chinese_str[0] == '十':\n",
    "        chinese_str_1 = chinese_numbers[chinese_str[1]]\n",
    "        return 10 + chinese_str_1\n",
    "      elif chinese_str[1] == '十':\n",
    "        chinese_str_0 = chinese_numbers[chinese_str[0]]\n",
    "        return 10*chinese_str_0\n",
    "    elif len(chinese_str) == 3:\n",
    "        return chinese_numbers[chinese_str[0]]*10 + chinese_numbers[chinese_str[-1]]\n",
    "    \n",
    "df1['總樓層數'] = df1['總樓層數'].apply(chinese_to_number)\n",
    "df2['總樓層數'] = df2['總樓層數'].apply(chinese_to_number)"
   ]
  },
  {
   "cell_type": "code",
   "execution_count": 45,
   "id": "f2f86a21",
   "metadata": {},
   "outputs": [],
   "source": [
    "# 如果是 nan 先補 0 ，再將總樓層數的值轉為整數型態\n",
    "df1['總樓層數'].fillna(0, inplace=True)\n",
    "df1['總樓層數'] = df1['總樓層數'].astype(int)\n",
    "\n",
    "df2['總樓層數'].fillna(0, inplace=True)\n",
    "df2['總樓層數'] = df2['總樓層數'].astype(int)"
   ]
  },
  {
   "cell_type": "code",
   "execution_count": 46,
   "id": "5f726013",
   "metadata": {},
   "outputs": [],
   "source": [
    "# 如果移轉層次是 '全' ，代表移轉整棟=總樓層數 ，所以將 '全' 替換成 '總樓層數' 的值\n",
    "df1['移轉層次'] = df1.apply(lambda row: row['總樓層數'] if row['移轉層次'] == '全' else row['移轉層次'], axis=1)\n",
    "\n",
    "df2['移轉層次'] = df2.apply(lambda row: row['總樓層數'] if row['移轉層次'] == '全' else row['移轉層次'], axis=1)"
   ]
  },
  {
   "cell_type": "code",
   "execution_count": 47,
   "id": "65e81767",
   "metadata": {},
   "outputs": [],
   "source": [
    "# 移轉層次處理，如果移轉層次裡有 keywords_to_ignore 的值，將其刪除不做考慮，但仍保留該值去計算層次\n",
    "# 先判斷其值是否為數字，是則直接回傳其整數，否則計算移轉了幾層\n",
    "keywords_to_ignore = ['屋頂突出物', '電梯樓梯間', '夾層', '見其他登記事項', '騎樓', '防空避難室']\n",
    "df1['移轉層次'] = df1['移轉層次'].fillna(0)\n",
    "df2['移轉層次'] = df2['移轉層次'].fillna(0)\n",
    "\n",
    "def calculate_floor_count(entry):\n",
    "  entry = str(entry)\n",
    "  if entry.isdigit():\n",
    "    return int(entry)\n",
    "  else:\n",
    "    for i in keywords_to_ignore:\n",
    "      if i in entry:\n",
    "        entry = entry.replace(i,'')\n",
    "  entry = entry.split('，')\n",
    "  return len(entry)\n",
    "\n",
    "df1['移轉層次'] = df1['移轉層次'].fillna(0)\n",
    "df1['移轉層次'] = df1['移轉層次'].apply(calculate_floor_count)\n",
    "\n",
    "df2['移轉層次'] = df2['移轉層次'].fillna(0)\n",
    "df2['移轉層次'] = df2['移轉層次'].apply(calculate_floor_count)"
   ]
  },
  {
   "cell_type": "code",
   "execution_count": 50,
   "id": "150c0b15",
   "metadata": {},
   "outputs": [],
   "source": [
    "# 將數量少於'其他'的項目都貴類成 '其他'\n",
    "value_counts = df1['建物型態'].value_counts()\n",
    "threshold = value_counts['其他']\n",
    "df1['建物型態'] = df1['建物型態'].apply(lambda x : x if value_counts[x] >= threshold else '其他')"
   ]
  },
  {
   "cell_type": "code",
   "execution_count": 52,
   "id": "797e87c1",
   "metadata": {},
   "outputs": [],
   "source": [
    "# 將數量少於'其他'的項目都貴類成 '其他'\n",
    "value_counts = df2['建物型態'].value_counts()\n",
    "threshold = value_counts['其他']\n",
    "df2['建物型態'] = df2['建物型態'].apply(lambda x : x if value_counts[x] >= threshold else '其他')"
   ]
  },
  {
   "cell_type": "code",
   "execution_count": 45,
   "id": "84ab6e00",
   "metadata": {},
   "outputs": [
    {
     "data": {
      "text/plain": [
       "(主要建材\n",
       " 鋼筋混凝土造                 67305\n",
       " 加強磚造                    3532\n",
       " 鋼骨鋼筋混凝土造                1134\n",
       " 見其他登記事項                  856\n",
       " 鋼筋混凝土加強磚造                580\n",
       "                        ...  \n",
       " 鋼磚地床、磨石地床、水泥平頂、加強磚造        1\n",
       " 加強磚造、水泥平頂、水泥地床、瓦頂          1\n",
       " 加強磚造、木石磚造                  1\n",
       " 加強磚造、水泥地床、、水泥平頂            1\n",
       " 加強磚造RC                     1\n",
       " Name: count, Length: 112, dtype: int64,\n",
       " 主要建材\n",
       " 鋼筋混凝土造                   15731\n",
       " 加強磚造                       813\n",
       " 鋼骨鋼筋混凝土造                   222\n",
       " 鋼筋混凝土加強磚造                  134\n",
       " ＲＣ造                         87\n",
       " 鋼骨造                         72\n",
       " 見其他登記事項                     67\n",
       " 磚造                          38\n",
       " 鐵筋加強磚造                      35\n",
       " ＲＣ鋼筋混凝土造                    18\n",
       " 鐵筋磚造蓋瓦頂                     10\n",
       " 加強磚造、水泥平頂、磨石地床               7\n",
       " 鋼造                           5\n",
       " 鋼骨混凝土造                       4\n",
       " ＲＣ造、鋼骨造                      4\n",
       " 磚造蓋瓦頂                        3\n",
       " 加強磚造、水泥平頂、水泥地床               3\n",
       " 鋼骨鋼筋混凝土造，鋼筋混凝土造，鋼骨造          3\n",
       " 鋼骨造，鋼筋混凝土造                   3\n",
       " Ｒ‧Ｃ鋼筋混凝土造                    3\n",
       " 鐵筋磚造水泥頂                      3\n",
       " 鐵筋加強磚                        3\n",
       " 木石磚造                         2\n",
       " 土造                           2\n",
       " 加強磚造蓋瓦頂                      2\n",
       " 木石磚造（雜木）                     2\n",
       " 鋼骨、ＲＣ造                       2\n",
       " 加強磚造、平頂、塑膠地板                 1\n",
       " 加強磚造、木石磚造（磚石造）               1\n",
       " 磨石地床、加強磚造、水泥平頂               1\n",
       " 木石磚造〈磚石造〉                    1\n",
       " 鋼骨鋼筋混凝土                      1\n",
       " 加強磚造、木石磚造〈雜木〉                1\n",
       " 水泥平頂、磨石地床、加強磚造               1\n",
       " ＲＣ構架造                        1\n",
       " 加強磚造、磚石造                     1\n",
       " 磚木造蓋瓦頂                       1\n",
       " 加強磚造、水泥平頂、磨石地床、二樓水泥地床        1\n",
       " 磨石地床、水泥平頂、加強磚造               1\n",
       " 鐵筋磚造蓋水泥頂                     1\n",
       " 加強磚造、水泥平頂、水泥地床、磨石地床          1\n",
       " 加強磚造、木造                      1\n",
       " 鐵筋加強磚造水泥平頂                   1\n",
       " 鐵筋加強磚造蓋瓦頂                    1\n",
       " 加強磚造蓋瓦頂及水泥頂                  1\n",
       " 加強磚造及鋼架                      1\n",
       " 鋼架造                          1\n",
       " 鐵架造、鐵架加強磚造                   1\n",
       " 加強磚造水泥頂                      1\n",
       " RC構造                         1\n",
       " 土竹造（純土造）、木石磚造（磚石造）           1\n",
       " 木造                           1\n",
       " ＳＲＣ造                         1\n",
       " 鋼筋混凝土結構造                     1\n",
       " 鋼筋混凝土造　構架造                   1\n",
       " 水泥地床、磨石地床、水泥平頂、加強磚造          1\n",
       " 木石磚造（磚石造）                    1\n",
       " Name: count, dtype: int64)"
      ]
     },
     "execution_count": 45,
     "metadata": {},
     "output_type": "execute_result"
    }
   ],
   "source": [
    "df1['主要建材'].value_counts(), df2['主要建材'].value_counts()"
   ]
  },
  {
   "cell_type": "code",
   "execution_count": 54,
   "id": "0f4ef8e2",
   "metadata": {},
   "outputs": [],
   "source": [
    "# 要保留的主要建材類別列表\n",
    "keep = ['鋼筋混凝土造', '加強磚造', '鋼骨鋼筋混凝土造', '鋼筋混凝土加強磚造']\n",
    "\n",
    "def transform_material(material):\n",
    "    if material in keep:\n",
    "        return material\n",
    "    else:\n",
    "        return '其他'"
   ]
  },
  {
   "cell_type": "code",
   "execution_count": 55,
   "id": "67bd4b88",
   "metadata": {},
   "outputs": [],
   "source": [
    "df1['主要建材'] = df1['主要建材'].apply(transform_material)\n",
    "df2['主要建材'] = df2['主要建材'].apply(transform_material)"
   ]
  },
  {
   "cell_type": "code",
   "execution_count": 57,
   "id": "20502211",
   "metadata": {},
   "outputs": [
    {
     "data": {
      "text/plain": [
       "(主要建材\n",
       " 鋼筋混凝土造       67305\n",
       " 加強磚造          3532\n",
       " 其他            2116\n",
       " 鋼骨鋼筋混凝土造      1134\n",
       " 鋼筋混凝土加強磚造      580\n",
       " Name: count, dtype: int64,\n",
       " 主要建材\n",
       " 鋼筋混凝土造       15731\n",
       " 加強磚造           813\n",
       " 其他             409\n",
       " 鋼骨鋼筋混凝土造       222\n",
       " 鋼筋混凝土加強磚造      134\n",
       " Name: count, dtype: int64)"
      ]
     },
     "execution_count": 57,
     "metadata": {},
     "output_type": "execute_result"
    }
   ],
   "source": [
    "#check\n",
    "df1['主要建材'].value_counts(), df2['主要建材'].value_counts()"
   ]
  },
  {
   "cell_type": "code",
   "execution_count": 58,
   "id": "b3fd9c8d",
   "metadata": {},
   "outputs": [],
   "source": [
    "def frequency_encode(column):\n",
    "    # 計算每個類別的頻率\n",
    "    category_frequency = column.value_counts()\n",
    "    # 將值映射到其頻率\n",
    "    encoded_column = column.map(category_frequency)\n",
    "    # 轉為整數型態\n",
    "    encoded_column = encoded_column.astype(int)\n",
    "    return encoded_column"
   ]
  },
  {
   "cell_type": "code",
   "execution_count": 60,
   "id": "be727c5b",
   "metadata": {},
   "outputs": [
    {
     "data": {
      "text/plain": [
       "有無管理組織\n",
       "有    53820\n",
       "無    20847\n",
       "Name: count, dtype: int64"
      ]
     },
     "execution_count": 60,
     "metadata": {},
     "output_type": "execute_result"
    }
   ],
   "source": [
    "df1['有無管理組織'].value_counts()"
   ]
  },
  {
   "cell_type": "code",
   "execution_count": 51,
   "id": "2fb4f48d",
   "metadata": {},
   "outputs": [],
   "source": [
    "df1['都市土地使用分區'] = frequency_encode(df1['都市土地使用分區'])\n",
    "df1['有無管理組織'] = frequency_encode(df1['有無管理組織'])\n",
    "df1['建物現況格局-隔間'] = frequency_encode(df1['建物現況格局-隔間'])\n",
    "df1['建物型態'] = frequency_encode(df1['建物型態'])\n",
    "df1['主要建材'] = frequency_encode(df1['主要建材'])"
   ]
  },
  {
   "cell_type": "code",
   "execution_count": 52,
   "id": "91f7a954",
   "metadata": {},
   "outputs": [],
   "source": [
    "df2['都市土地使用分區'] = frequency_encode(df2['都市土地使用分區'])\n",
    "df2['有無管理組織'] = frequency_encode(df2['有無管理組織'])\n",
    "df2['建物現況格局-隔間'] = frequency_encode(df2['建物現況格局-隔間'])\n",
    "df2['建物型態'] = frequency_encode(df2['建物型態'])\n",
    "df2['主要建材'] = frequency_encode(df2['主要建材'])"
   ]
  },
  {
   "cell_type": "code",
   "execution_count": 53,
   "id": "6e452ec8",
   "metadata": {},
   "outputs": [],
   "source": [
    "# 確保資料型態為整數或浮點數，才能進行後續的運算\n",
    "df1['建物移轉總面積平方公尺'] = df1['建物移轉總面積平方公尺'].astype(float)\n",
    "df1['土地移轉總面積平方公尺'] = df1['土地移轉總面積平方公尺'].astype(float)\n",
    "df1['主建物面積'] = df1['主建物面積'].astype(float)\n",
    "df1['附屬建物面積'] = df1['附屬建物面積'].astype(float)\n",
    "df1['陽台面積'] = df1['陽台面積'].astype(float)\n",
    "\n",
    "df2['建物移轉總面積平方公尺'] = df2['建物移轉總面積平方公尺'].astype(float)\n",
    "df2['土地移轉總面積平方公尺'] = df2['土地移轉總面積平方公尺'].astype(float)\n",
    "df2['主建物面積'] = df2['主建物面積'].astype(float)\n",
    "df2['附屬建物面積'] = df2['附屬建物面積'].astype(float)\n",
    "df2['陽台面積'] = df2['陽台面積'].astype(float)"
   ]
  },
  {
   "cell_type": "code",
   "execution_count": 54,
   "id": "15d81f7a",
   "metadata": {},
   "outputs": [],
   "source": [
    "def div_price(price):\n",
    "  return price/10000\n",
    "\n",
    "df1['總價元'] = df1['總價元'].apply(div_price)\n",
    "\n",
    "df2['總價元'] = df2['總價元'].apply(div_price)"
   ]
  },
  {
   "cell_type": "code",
   "execution_count": 55,
   "id": "bc37416e",
   "metadata": {},
   "outputs": [],
   "source": [
    "# 把平方公尺轉為坪數，並更名\n",
    "def area_trans(area):\n",
    "    return round(area*0.3025,2)\n",
    "\n",
    "df1['土地移轉總面積平方公尺'] = df1['土地移轉總面積平方公尺'].apply(area_trans)\n",
    "df1['建物移轉總面積平方公尺'] = df1['建物移轉總面積平方公尺'].apply(area_trans)\n",
    "df1['主建物面積'] = df1['主建物面積'].apply(area_trans)\n",
    "df1['附屬建物面積'] = df1['附屬建物面積'].apply(area_trans)\n",
    "df1['陽台面積'] = df1['陽台面積'].apply(area_trans)\n",
    "\n",
    "df2['土地移轉總面積平方公尺'] = df2['土地移轉總面積平方公尺'].apply(area_trans)\n",
    "df2['建物移轉總面積平方公尺'] = df2['建物移轉總面積平方公尺'].apply(area_trans)\n",
    "df2['主建物面積'] = df2['主建物面積'].apply(area_trans)\n",
    "df2['附屬建物面積'] = df2['附屬建物面積'].apply(area_trans)\n",
    "df2['陽台面積'] = df2['陽台面積'].apply(area_trans)\n",
    "\n",
    "df1 = df1.rename(columns={'土地移轉總面積平方公尺':'土地移轉總坪數',\n",
    "                       '建物移轉總面積平方公尺':'建物移轉總坪數',\n",
    "                       '主建物面積':'主建物坪數',\n",
    "                       '附屬建物面積':'附屬建物坪數',\n",
    "                       '陽台面積':'陽台坪數'})\n",
    "\n",
    "df2 = df2.rename(columns={'土地移轉總面積平方公尺':'土地移轉總坪數',\n",
    "                       '建物移轉總面積平方公尺':'建物移轉總坪數',\n",
    "                       '主建物面積':'主建物坪數',\n",
    "                       '附屬建物面積':'附屬建物坪數',\n",
    "                       '陽台面積':'陽台坪數'})"
   ]
  },
  {
   "cell_type": "code",
   "execution_count": 56,
   "id": "f7881912",
   "metadata": {},
   "outputs": [
    {
     "data": {
      "image/png": "[encoded data removed]",
      "text/plain": [
       "<Figure size 1000x400 with 1 Axes>"
      ]
     },
     "metadata": {},
     "output_type": "display_data"
    }
   ],
   "source": [
    "%matplotlib inline\n",
    "import matplotlib.pyplot as plt\n",
    "import seaborn as sns\n",
    "\n",
    "plt.figure(figsize=(10, 4))\n",
    "sns.boxplot(x=df1['總價元'])\n",
    "plt.title('Box plot for price')\n",
    "plt.xlabel('price')\n",
    "plt.show()"
   ]
  },
  {
   "cell_type": "code",
   "execution_count": 57,
   "id": "0e2b9213",
   "metadata": {},
   "outputs": [],
   "source": [
    "for i in range(8):\n",
    "    Q1 = df1['總價元'].quantile(0.25)\n",
    "    Q3 = df1['總價元'].quantile(0.75)\n",
    "    IQR = Q3 - Q1\n",
    "    lowerbound = Q1 - 1.5*IQR\n",
    "    upperbound = Q3 + 1.5*IQR\n",
    "    df1 = df1[(df1['總價元'] >= lowerbound) & (df1['總價元'] <= upperbound)]"
   ]
  },
  {
   "cell_type": "code",
   "execution_count": 58,
   "id": "f0f1a611",
   "metadata": {},
   "outputs": [
    {
     "data": {
      "image/png": "[encoded data removed]",
      "text/plain": [
       "<Figure size 1000x400 with 1 Axes>"
      ]
     },
     "metadata": {},
     "output_type": "display_data"
    }
   ],
   "source": [
    "plt.figure(figsize=(10, 4))\n",
    "sns.boxplot(x=df1['總價元'])\n",
    "plt.title('Box plot for price')\n",
    "plt.xlabel('price')\n",
    "plt.show()"
   ]
  },
  {
   "cell_type": "code",
   "execution_count": 59,
   "id": "9dcf44b7",
   "metadata": {},
   "outputs": [
    {
     "data": {
      "image/png": "[encoded data removed]",
      "text/plain": [
       "<Figure size 1000x400 with 1 Axes>"
      ]
     },
     "metadata": {},
     "output_type": "display_data"
    }
   ],
   "source": [
    "%matplotlib inline\n",
    "import matplotlib.pyplot as plt\n",
    "import seaborn as sns\n",
    "\n",
    "plt.figure(figsize=(10, 4))\n",
    "sns.boxplot(x=df2['總價元'])\n",
    "plt.title('Box plot for price')\n",
    "plt.xlabel('price')\n",
    "plt.show()"
   ]
  },
  {
   "cell_type": "code",
   "execution_count": 60,
   "id": "a56f721c",
   "metadata": {},
   "outputs": [],
   "source": [
    "for i in range(3):\n",
    "    Q1 = df2['總價元'].quantile(0.25)\n",
    "    Q3 = df2['總價元'].quantile(0.75)\n",
    "    IQR = Q3 - Q1\n",
    "    lowerbound = Q1 - 1.5*IQR\n",
    "    upperbound = Q3 + 1.5*IQR\n",
    "    df2 = df2[(df2['總價元'] >= lowerbound) & (df2['總價元'] <= upperbound)]"
   ]
  },
  {
   "cell_type": "code",
   "execution_count": 61,
   "id": "6c6f93ea",
   "metadata": {},
   "outputs": [
    {
     "data": {
      "image/png": "[encoded data removed]",
      "text/plain": [
       "<Figure size 1000x400 with 1 Axes>"
      ]
     },
     "metadata": {},
     "output_type": "display_data"
    }
   ],
   "source": [
    "plt.figure(figsize=(10, 4))\n",
    "sns.boxplot(x=df2['總價元'])\n",
    "plt.title('Box plot for price')\n",
    "plt.xlabel('price')\n",
    "plt.show()"
   ]
  },
  {
   "cell_type": "code",
   "execution_count": 62,
   "id": "c80d6a16",
   "metadata": {},
   "outputs": [
    {
     "data": {
      "text/plain": [
       "鄉鎮市區\n",
       "其他     15310\n",
       "北屯區     9741\n",
       "西屯區     9180\n",
       "北區      6474\n",
       "南屯區     4792\n",
       "太平區     4555\n",
       "南區      4471\n",
       "大里區     4306\n",
       "西區      3653\n",
       "豐原區     2110\n",
       "潭子區     1887\n",
       "Name: count, dtype: int64"
      ]
     },
     "execution_count": 62,
     "metadata": {},
     "output_type": "execute_result"
    }
   ],
   "source": [
    "df1['鄉鎮市區'].value_counts()"
   ]
  },
  {
   "cell_type": "code",
   "execution_count": 63,
   "id": "98ca6195",
   "metadata": {},
   "outputs": [],
   "source": [
    "df1['鄉鎮市區'] = df1['鄉鎮市區'].map({'北屯區':10,'西屯區':9,'北區':8,'南屯區':7,'太平區':6,'南區':5,\n",
    "                                      '大里區':4,'西區':3,'豐原區':2,'潭子區':1,'其他':0})\n",
    "df1['鄉鎮市區'] = df1['鄉鎮市區'].astype(int)"
   ]
  },
  {
   "cell_type": "code",
   "execution_count": 64,
   "id": "bacf5797",
   "metadata": {},
   "outputs": [
    {
     "data": {
      "text/plain": [
       "鄉鎮市區\n",
       "其他     3265\n",
       "北屯區    2525\n",
       "西屯區    2055\n",
       "北區     1674\n",
       "南屯區    1187\n",
       "南區     1172\n",
       "太平區     981\n",
       "西區      911\n",
       "大里區     731\n",
       "豐原區     535\n",
       "沙鹿區     461\n",
       "潭子區     419\n",
       "Name: count, dtype: int64"
      ]
     },
     "execution_count": 64,
     "metadata": {},
     "output_type": "execute_result"
    }
   ],
   "source": [
    "df2['鄉鎮市區'].value_counts()"
   ]
  },
  {
   "cell_type": "code",
   "execution_count": 65,
   "id": "17f1f3f5",
   "metadata": {},
   "outputs": [],
   "source": [
    "df2['鄉鎮市區'] = df2['鄉鎮市區'].map({'北屯區':11,'西屯區':10,'北區':9,'南屯區':8,'南區':7,'太平區':6,\n",
    "                                    '西區':5,'大里區':4,'豐原區':3,'沙鹿區':2,'潭子區':1,'其他':0})\n",
    "df2['鄉鎮市區'] = df2['鄉鎮市區'].astype(int)"
   ]
  },
  {
   "cell_type": "code",
   "execution_count": 66,
   "id": "985d4201",
   "metadata": {},
   "outputs": [],
   "source": [
    "ec = pd.read_csv('市場.csv')"
   ]
  },
  {
   "cell_type": "code",
   "execution_count": 67,
   "id": "50e83d97",
   "metadata": {},
   "outputs": [],
   "source": [
    "ec[['year', 'month']] = ec['時間'].str.split('/', expand=True)\n",
    "ec['year'] = (ec['year'].astype(int) + 1911).astype(str)\n",
    "ec['new_date'] = ec['year'] + '-' + ec['month']\n",
    "ec = ec.drop(['year','month','時間'],axis=1)"
   ]
  },
  {
   "cell_type": "code",
   "execution_count": 68,
   "id": "7cc5d0e8",
   "metadata": {},
   "outputs": [],
   "source": [
    "def string_trans(string):\n",
    "    string = str(string)\n",
    "    return string[:7]"
   ]
  },
  {
   "cell_type": "code",
   "execution_count": 69,
   "id": "b1f70ac4",
   "metadata": {},
   "outputs": [],
   "source": [
    "df1['new_date'], df2['new_date'] = 0, 0\n",
    "df1['new_date'] = df1['交易年月日'].apply(string_trans)\n",
    "df2['new_date'] = df2['交易年月日'].apply(string_trans)"
   ]
  },
  {
   "cell_type": "code",
   "execution_count": 70,
   "id": "7ab93e8f",
   "metadata": {},
   "outputs": [],
   "source": [
    "df1 = pd.merge(df1, ec[['new_date', '五大行庫平均房貸利率(%)', '消費者物價指數', 'M1b貨幣供給額(億元)','經濟成長率(%)']],\n",
    "                    left_on='new_date', right_on='new_date', how='left')"
   ]
  },
  {
   "cell_type": "code",
   "execution_count": 71,
   "id": "b483bfe1",
   "metadata": {},
   "outputs": [],
   "source": [
    "df2 = pd.merge(df2, ec[['new_date', '五大行庫平均房貸利率(%)', '消費者物價指數', 'M1b貨幣供給額(億元)','經濟成長率(%)']],\n",
    "                    left_on='new_date', right_on='new_date', how='left')"
   ]
  },
  {
   "cell_type": "code",
   "execution_count": 72,
   "id": "3d83d622",
   "metadata": {},
   "outputs": [],
   "source": [
    "dt1 = pd.read_excel('df105360.xlsx')\n",
    "df_loc = pd.read_excel('111地標_final.xlsx')\n",
    "dt2 = pd.read_excel('validaddresscoord2.xlsx')"
   ]
  },
  {
   "cell_type": "code",
   "execution_count": 73,
   "id": "3aa6fb1c",
   "metadata": {},
   "outputs": [],
   "source": [
    "def check(string):\n",
    "    if '\\r' in string:\n",
    "        return string.replace('\\r','')\n",
    "    elif '\\n' in string:\n",
    "        return string.replace('\\n','')\n",
    "    elif '_x000D_' in string:\n",
    "        return string.replace('_x000D_','')\n",
    "    else:\n",
    "        return string\n",
    "dt1['address'] = dt1['address'].apply(check)\n",
    "dt2['address'] = dt2['address'].apply(check)"
   ]
  },
  {
   "cell_type": "code",
   "execution_count": 74,
   "id": "dfaeb009",
   "metadata": {},
   "outputs": [],
   "source": [
    "dt1 = dt1.drop_duplicates(subset='address', keep='first')\n",
    "dt2 = dt2.drop_duplicates(subset='address', keep='first')"
   ]
  },
  {
   "cell_type": "code",
   "execution_count": 75,
   "id": "c5aee6c3",
   "metadata": {},
   "outputs": [],
   "source": [
    "df1 = df1.merge(dt1[['address', 'longitude', 'latitude']], left_on='土地位置建物門牌', right_on='address', how='left')\n",
    "df2 = df2.merge(dt2[['address', 'longitude', 'latitude']], left_on='土地位置建物門牌', right_on='address', how='left')"
   ]
  },
  {
   "cell_type": "code",
   "execution_count": 76,
   "id": "80c17a97",
   "metadata": {},
   "outputs": [
    {
     "name": "stdout",
     "output_type": "stream",
     "text": [
      "<class 'pandas.core.frame.DataFrame'>\n",
      "RangeIndex: 66479 entries, 0 to 66478\n",
      "Data columns (total 31 columns):\n",
      " #   Column         Non-Null Count  Dtype         \n",
      "---  ------         --------------  -----         \n",
      " 0   鄉鎮市區           66479 non-null  int32         \n",
      " 1   土地位置建物門牌       66479 non-null  object        \n",
      " 2   土地移轉總坪數        66479 non-null  float64       \n",
      " 3   都市土地使用分區       66479 non-null  int32         \n",
      " 4   交易年月日          66479 non-null  datetime64[ns]\n",
      " 5   移轉層次           66479 non-null  int64         \n",
      " 6   總樓層數           66479 non-null  int32         \n",
      " 7   建物型態           66479 non-null  int32         \n",
      " 8   主要建材           66479 non-null  int32         \n",
      " 9   建築完成年月         66479 non-null  datetime64[ns]\n",
      " 10  建物移轉總坪數        66479 non-null  float64       \n",
      " 11  建物現況格局-房       66479 non-null  object        \n",
      " 12  建物現況格局-廳       66479 non-null  object        \n",
      " 13  建物現況格局-衛       66479 non-null  object        \n",
      " 14  建物現況格局-隔間      66479 non-null  int32         \n",
      " 15  有無管理組織         66479 non-null  int32         \n",
      " 16  總價元            66479 non-null  float64       \n",
      " 17  主建物坪數          66479 non-null  float64       \n",
      " 18  附屬建物坪數         66479 non-null  float64       \n",
      " 19  陽台坪數           66479 non-null  float64       \n",
      " 20  土地數量           66479 non-null  int64         \n",
      " 21  建物數量           66479 non-null  int64         \n",
      " 22  屋齡             66479 non-null  float64       \n",
      " 23  new_date       66479 non-null  object        \n",
      " 24  五大行庫平均房貸利率(%)  66479 non-null  float64       \n",
      " 25  消費者物價指數        66479 non-null  float64       \n",
      " 26  M1b貨幣供給額(億元)   66479 non-null  int64         \n",
      " 27  經濟成長率(%)       66479 non-null  float64       \n",
      " 28  address        66443 non-null  object        \n",
      " 29  longitude      66443 non-null  float64       \n",
      " 30  latitude       66443 non-null  float64       \n",
      "dtypes: datetime64[ns](2), float64(12), int32(7), int64(4), object(6)\n",
      "memory usage: 13.9+ MB\n",
      "<class 'pandas.core.frame.DataFrame'>\n",
      "RangeIndex: 15916 entries, 0 to 15915\n",
      "Data columns (total 31 columns):\n",
      " #   Column         Non-Null Count  Dtype         \n",
      "---  ------         --------------  -----         \n",
      " 0   鄉鎮市區           15916 non-null  int32         \n",
      " 1   土地位置建物門牌       15916 non-null  object        \n",
      " 2   土地移轉總坪數        15916 non-null  float64       \n",
      " 3   都市土地使用分區       15916 non-null  int32         \n",
      " 4   交易年月日          15916 non-null  datetime64[ns]\n",
      " 5   移轉層次           15916 non-null  int64         \n",
      " 6   總樓層數           15916 non-null  int32         \n",
      " 7   建物型態           15916 non-null  int32         \n",
      " 8   主要建材           15916 non-null  int32         \n",
      " 9   建築完成年月         15916 non-null  datetime64[ns]\n",
      " 10  建物移轉總坪數        15916 non-null  float64       \n",
      " 11  建物現況格局-房       15916 non-null  object        \n",
      " 12  建物現況格局-廳       15916 non-null  object        \n",
      " 13  建物現況格局-衛       15916 non-null  object        \n",
      " 14  建物現況格局-隔間      15916 non-null  int32         \n",
      " 15  有無管理組織         15916 non-null  int32         \n",
      " 16  總價元            15916 non-null  float64       \n",
      " 17  主建物坪數          15916 non-null  float64       \n",
      " 18  附屬建物坪數         15916 non-null  float64       \n",
      " 19  陽台坪數           15916 non-null  float64       \n",
      " 20  土地數量           15916 non-null  int64         \n",
      " 21  建物數量           15916 non-null  int64         \n",
      " 22  屋齡             15916 non-null  float64       \n",
      " 23  new_date       15916 non-null  object        \n",
      " 24  五大行庫平均房貸利率(%)  15916 non-null  float64       \n",
      " 25  消費者物價指數        15916 non-null  float64       \n",
      " 26  M1b貨幣供給額(億元)   15916 non-null  int64         \n",
      " 27  經濟成長率(%)       15916 non-null  float64       \n",
      " 28  address        15916 non-null  object        \n",
      " 29  longitude      15916 non-null  float64       \n",
      " 30  latitude       15916 non-null  float64       \n",
      "dtypes: datetime64[ns](2), float64(12), int32(7), int64(4), object(6)\n",
      "memory usage: 3.3+ MB\n"
     ]
    },
    {
     "data": {
      "text/plain": [
       "(None, None)"
      ]
     },
     "execution_count": 76,
     "metadata": {},
     "output_type": "execute_result"
    }
   ],
   "source": [
    "df1.info(),df2.info()"
   ]
  },
  {
   "cell_type": "code",
   "execution_count": 77,
   "id": "5b9d0794",
   "metadata": {},
   "outputs": [
    {
     "data": {
      "text/html": [
       "<div>\n",
       "<style scoped>\n",
       "    .dataframe tbody tr th:only-of-type {\n",
       "        vertical-align: middle;\n",
       "    }\n",
       "\n",
       "    .dataframe tbody tr th {\n",
       "        vertical-align: top;\n",
       "    }\n",
       "\n",
       "    .dataframe thead th {\n",
       "        text-align: right;\n",
       "    }\n",
       "</style>\n",
       "<table border=\"1\" class=\"dataframe\">\n",
       "  <thead>\n",
       "    <tr style=\"text-align: right;\">\n",
       "      <th></th>\n",
       "      <th>土地位置建物門牌</th>\n",
       "      <th>longitude</th>\n",
       "      <th>latitude</th>\n",
       "    </tr>\n",
       "  </thead>\n",
       "  <tbody>\n",
       "    <tr>\n",
       "      <th>6888</th>\n",
       "      <td>臺中市北屯區太順東街８號四樓之３</td>\n",
       "      <td>NaN</td>\n",
       "      <td>NaN</td>\n",
       "    </tr>\n",
       "    <tr>\n",
       "      <th>6935</th>\n",
       "      <td>臺中市北屯區太安一街９號</td>\n",
       "      <td>NaN</td>\n",
       "      <td>NaN</td>\n",
       "    </tr>\n",
       "    <tr>\n",
       "      <th>8182</th>\n",
       "      <td>臺中市北屯區華美西街二段４７０之１號</td>\n",
       "      <td>NaN</td>\n",
       "      <td>NaN</td>\n",
       "    </tr>\n",
       "    <tr>\n",
       "      <th>8288</th>\n",
       "      <td>臺中市北屯區松竹路二段１６０巷４弄４號</td>\n",
       "      <td>NaN</td>\n",
       "      <td>NaN</td>\n",
       "    </tr>\n",
       "    <tr>\n",
       "      <th>17636</th>\n",
       "      <td>臺中市西屯區至善路２３２之１號三樓</td>\n",
       "      <td>NaN</td>\n",
       "      <td>NaN</td>\n",
       "    </tr>\n",
       "    <tr>\n",
       "      <th>17669</th>\n",
       "      <td>臺中市西屯區福安二街２６號５樓</td>\n",
       "      <td>NaN</td>\n",
       "      <td>NaN</td>\n",
       "    </tr>\n",
       "    <tr>\n",
       "      <th>17685</th>\n",
       "      <td>臺中市西屯區西屯路三段１６９之１０號六樓之４</td>\n",
       "      <td>NaN</td>\n",
       "      <td>NaN</td>\n",
       "    </tr>\n",
       "    <tr>\n",
       "      <th>17703</th>\n",
       "      <td>臺中市西屯區臺灣大道三段６９９號八樓之３</td>\n",
       "      <td>NaN</td>\n",
       "      <td>NaN</td>\n",
       "    </tr>\n",
       "    <tr>\n",
       "      <th>17878</th>\n",
       "      <td>臺中市西屯區河南路二段４７６號六樓之２</td>\n",
       "      <td>NaN</td>\n",
       "      <td>NaN</td>\n",
       "    </tr>\n",
       "    <tr>\n",
       "      <th>24168</th>\n",
       "      <td>臺中市太平區中山路一段３２２巷１２弄１５號</td>\n",
       "      <td>NaN</td>\n",
       "      <td>NaN</td>\n",
       "    </tr>\n",
       "    <tr>\n",
       "      <th>29644</th>\n",
       "      <td>臺中市南屯區大墩四街５０８號四樓</td>\n",
       "      <td>NaN</td>\n",
       "      <td>NaN</td>\n",
       "    </tr>\n",
       "    <tr>\n",
       "      <th>32617</th>\n",
       "      <td>臺中市豐原區圓環北路一段２０６巷１７弄１０號</td>\n",
       "      <td>NaN</td>\n",
       "      <td>NaN</td>\n",
       "    </tr>\n",
       "    <tr>\n",
       "      <th>32927</th>\n",
       "      <td>臺中市豐原區安康路４７號十樓之１</td>\n",
       "      <td>NaN</td>\n",
       "      <td>NaN</td>\n",
       "    </tr>\n",
       "    <tr>\n",
       "      <th>38965</th>\n",
       "      <td>臺中市北區東光東街８１號十四樓之１１</td>\n",
       "      <td>NaN</td>\n",
       "      <td>NaN</td>\n",
       "    </tr>\n",
       "    <tr>\n",
       "      <th>43662</th>\n",
       "      <td>臺中市南區復興北路８０１巷６６號四樓之２</td>\n",
       "      <td>NaN</td>\n",
       "      <td>NaN</td>\n",
       "    </tr>\n",
       "    <tr>\n",
       "      <th>47284</th>\n",
       "      <td>臺中市西區五權路２之１９２巷２號九樓之三</td>\n",
       "      <td>NaN</td>\n",
       "      <td>NaN</td>\n",
       "    </tr>\n",
       "    <tr>\n",
       "      <th>47300</th>\n",
       "      <td>臺中市西區五權一街１４１號</td>\n",
       "      <td>NaN</td>\n",
       "      <td>NaN</td>\n",
       "    </tr>\n",
       "    <tr>\n",
       "      <th>47301</th>\n",
       "      <td>臺中市西區五權一街１３７號</td>\n",
       "      <td>NaN</td>\n",
       "      <td>NaN</td>\n",
       "    </tr>\n",
       "    <tr>\n",
       "      <th>47318</th>\n",
       "      <td>臺中市西區五權一街１３９號</td>\n",
       "      <td>NaN</td>\n",
       "      <td>NaN</td>\n",
       "    </tr>\n",
       "    <tr>\n",
       "      <th>49780</th>\n",
       "      <td>臺中市潭子區得才街１０６巷７號</td>\n",
       "      <td>NaN</td>\n",
       "      <td>NaN</td>\n",
       "    </tr>\n",
       "    <tr>\n",
       "      <th>51187</th>\n",
       "      <td>臺中市沙鹿區福成路２５５巷８號六樓之１</td>\n",
       "      <td>NaN</td>\n",
       "      <td>NaN</td>\n",
       "    </tr>\n",
       "    <tr>\n",
       "      <th>51197</th>\n",
       "      <td>臺中市沙鹿區福成路２５５巷８號五樓之１５</td>\n",
       "      <td>NaN</td>\n",
       "      <td>NaN</td>\n",
       "    </tr>\n",
       "    <tr>\n",
       "      <th>51198</th>\n",
       "      <td>臺中市沙鹿區福成路２５５巷８號五樓之１</td>\n",
       "      <td>NaN</td>\n",
       "      <td>NaN</td>\n",
       "    </tr>\n",
       "    <tr>\n",
       "      <th>51213</th>\n",
       "      <td>臺中市霧峰區民生路１６６號三樓之１</td>\n",
       "      <td>NaN</td>\n",
       "      <td>NaN</td>\n",
       "    </tr>\n",
       "    <tr>\n",
       "      <th>51763</th>\n",
       "      <td>臺中市沙鹿區東晉路１６８巷２２號</td>\n",
       "      <td>NaN</td>\n",
       "      <td>NaN</td>\n",
       "    </tr>\n",
       "    <tr>\n",
       "      <th>51800</th>\n",
       "      <td>臺中市烏日區溪南路一段１２６巷２１３弄１７號</td>\n",
       "      <td>NaN</td>\n",
       "      <td>NaN</td>\n",
       "    </tr>\n",
       "    <tr>\n",
       "      <th>52642</th>\n",
       "      <td>臺中市大安區南北五路３９巷３６號</td>\n",
       "      <td>NaN</td>\n",
       "      <td>NaN</td>\n",
       "    </tr>\n",
       "    <tr>\n",
       "      <th>53674</th>\n",
       "      <td>臺中市后里區成功路１５３巷２７號</td>\n",
       "      <td>NaN</td>\n",
       "      <td>NaN</td>\n",
       "    </tr>\n",
       "    <tr>\n",
       "      <th>54521</th>\n",
       "      <td>臺中市沙鹿區六路十四街１３６號</td>\n",
       "      <td>NaN</td>\n",
       "      <td>NaN</td>\n",
       "    </tr>\n",
       "    <tr>\n",
       "      <th>54522</th>\n",
       "      <td>臺中市清水區中華路１０１巷３５號</td>\n",
       "      <td>NaN</td>\n",
       "      <td>NaN</td>\n",
       "    </tr>\n",
       "    <tr>\n",
       "      <th>54523</th>\n",
       "      <td>臺中市清水區中華路１０１巷３３號</td>\n",
       "      <td>NaN</td>\n",
       "      <td>NaN</td>\n",
       "    </tr>\n",
       "    <tr>\n",
       "      <th>54556</th>\n",
       "      <td>臺中市清水區南新路１２８巷２９之１號</td>\n",
       "      <td>NaN</td>\n",
       "      <td>NaN</td>\n",
       "    </tr>\n",
       "    <tr>\n",
       "      <th>54586</th>\n",
       "      <td>臺中市中區中華路二段２４巷５－３－１號</td>\n",
       "      <td>NaN</td>\n",
       "      <td>NaN</td>\n",
       "    </tr>\n",
       "    <tr>\n",
       "      <th>54596</th>\n",
       "      <td>臺中市中區中華路二段２４巷５－５－１號</td>\n",
       "      <td>NaN</td>\n",
       "      <td>NaN</td>\n",
       "    </tr>\n",
       "    <tr>\n",
       "      <th>54597</th>\n",
       "      <td>臺中市烏日區溪南路一段１２６巷２１３弄２５號</td>\n",
       "      <td>NaN</td>\n",
       "      <td>NaN</td>\n",
       "    </tr>\n",
       "    <tr>\n",
       "      <th>58311</th>\n",
       "      <td>臺中市清水區榔一街３０巷１號</td>\n",
       "      <td>NaN</td>\n",
       "      <td>NaN</td>\n",
       "    </tr>\n",
       "  </tbody>\n",
       "</table>\n",
       "</div>"
      ],
      "text/plain": [
       "                     土地位置建物門牌  longitude  latitude\n",
       "6888         臺中市北屯區太順東街８號四樓之３        NaN       NaN\n",
       "6935             臺中市北屯區太安一街９號        NaN       NaN\n",
       "8182       臺中市北屯區華美西街二段４７０之１號        NaN       NaN\n",
       "8288      臺中市北屯區松竹路二段１６０巷４弄４號        NaN       NaN\n",
       "17636       臺中市西屯區至善路２３２之１號三樓        NaN       NaN\n",
       "17669         臺中市西屯區福安二街２６號５樓        NaN       NaN\n",
       "17685  臺中市西屯區西屯路三段１６９之１０號六樓之４        NaN       NaN\n",
       "17703    臺中市西屯區臺灣大道三段６９９號八樓之３        NaN       NaN\n",
       "17878     臺中市西屯區河南路二段４７６號六樓之２        NaN       NaN\n",
       "24168   臺中市太平區中山路一段３２２巷１２弄１５號        NaN       NaN\n",
       "29644        臺中市南屯區大墩四街５０８號四樓        NaN       NaN\n",
       "32617  臺中市豐原區圓環北路一段２０６巷１７弄１０號        NaN       NaN\n",
       "32927        臺中市豐原區安康路４７號十樓之１        NaN       NaN\n",
       "38965      臺中市北區東光東街８１號十四樓之１１        NaN       NaN\n",
       "43662    臺中市南區復興北路８０１巷６６號四樓之２        NaN       NaN\n",
       "47284    臺中市西區五權路２之１９２巷２號九樓之三        NaN       NaN\n",
       "47300           臺中市西區五權一街１４１號        NaN       NaN\n",
       "47301           臺中市西區五權一街１３７號        NaN       NaN\n",
       "47318           臺中市西區五權一街１３９號        NaN       NaN\n",
       "49780         臺中市潭子區得才街１０６巷７號        NaN       NaN\n",
       "51187     臺中市沙鹿區福成路２５５巷８號六樓之１        NaN       NaN\n",
       "51197    臺中市沙鹿區福成路２５５巷８號五樓之１５        NaN       NaN\n",
       "51198     臺中市沙鹿區福成路２５５巷８號五樓之１        NaN       NaN\n",
       "51213       臺中市霧峰區民生路１６６號三樓之１        NaN       NaN\n",
       "51763        臺中市沙鹿區東晉路１６８巷２２號        NaN       NaN\n",
       "51800  臺中市烏日區溪南路一段１２６巷２１３弄１７號        NaN       NaN\n",
       "52642        臺中市大安區南北五路３９巷３６號        NaN       NaN\n",
       "53674        臺中市后里區成功路１５３巷２７號        NaN       NaN\n",
       "54521         臺中市沙鹿區六路十四街１３６號        NaN       NaN\n",
       "54522        臺中市清水區中華路１０１巷３５號        NaN       NaN\n",
       "54523        臺中市清水區中華路１０１巷３３號        NaN       NaN\n",
       "54556      臺中市清水區南新路１２８巷２９之１號        NaN       NaN\n",
       "54586     臺中市中區中華路二段２４巷５－３－１號        NaN       NaN\n",
       "54596     臺中市中區中華路二段２４巷５－５－１號        NaN       NaN\n",
       "54597  臺中市烏日區溪南路一段１２６巷２１３弄２５號        NaN       NaN\n",
       "58311         臺中市清水區榔一街３０巷１號        NaN       NaN"
      ]
     },
     "execution_count": 77,
     "metadata": {},
     "output_type": "execute_result"
    }
   ],
   "source": [
    "missing_data_rows = df1[df1['longitude'].isna() | df1['latitude'].isna()]\n",
    "missing_data_rows = missing_data_rows[['土地位置建物門牌','longitude','latitude']]\n",
    "missing_data_rows"
   ]
  },
  {
   "cell_type": "code",
   "execution_count": 78,
   "id": "7026aed4",
   "metadata": {},
   "outputs": [],
   "source": [
    "df1.loc[6888, 'latitude'], df1.loc[6888, 'longitude'] = 24.159418381209388, 120.72210398984507\n",
    "df1.loc[6935, 'latitude'], df1.loc[6935, 'longitude'] = 24.159798272928754, 120.73805562376349\n",
    "df1.loc[8182, 'latitude'], df1.loc[8182, 'longitude'] = 24.174978540928933, 120.66852364144151\n",
    "df1.loc[8288, 'latitude'], df1.loc[8288, 'longitude'] = 24.183830070145287, 120.69740885716102\n",
    "df1.loc[17636, 'latitude'], df1.loc[17636, 'longitude'] = 24.1774034983203, 120.6436026808058\n",
    "df1.loc[17669, 'latitude'], df1.loc[17669, 'longitude'] = 24.180642735745963, 120.61814072842103\n",
    "df1.loc[17685, 'latitude'], df1.loc[17685, 'longitude'] = 24.188650100701008, 120.61628523703254\n",
    "df1.loc[17703, 'latitude'], df1.loc[17703, 'longitude'] = 24.171632751237873, 120.63501368690608\n",
    "df1.loc[17878, 'latitude'], df1.loc[17878, 'longitude'] = 24.170549303772457, 120.64317175196513\n",
    "df1.loc[24168, 'latitude'], df1.loc[24168, 'longitude'] = 24.14319181970736, 120.73486933478546\n",
    "df1.loc[29644, 'latitude'], df1.loc[29644, 'longitude'] = 24.14264773376704, 120.64097073391366\n",
    "df1.loc[32617, 'latitude'], df1.loc[32617, 'longitude'] = 24.255990442291868, 120.71781217380114\n",
    "df1.loc[32927, 'latitude'], df1.loc[32927, 'longitude'] = 24.24390488394404, 120.72482927682675\n",
    "df1.loc[38965, 'latitude'], df1.loc[38965, 'longitude'] = 24.1539201634868, 120.69932532887614\n",
    "df1.loc[43662, 'latitude'], df1.loc[43662, 'longitude'] = 24.112294012136797, 120.64782242036031\n",
    "df1.loc[47284, 'latitude'], df1.loc[47284, 'longitude'] = 24.137183126356216, 120.66589582553182\n",
    "df1.loc[47300, 'latitude'], df1.loc[47300, 'longitude'] = 24.13918028208766, 120.65643255776212\n",
    "df1.loc[47301, 'latitude'], df1.loc[47301, 'longitude'] = 24.139220371891888, 120.65656813063075\n",
    "df1.loc[47318, 'latitude'], df1.loc[47318, 'longitude'] = 24.139221853690874, 120.65648992400409\n",
    "df1.loc[49780, 'latitude'], df1.loc[49780, 'longitude'] = 24.19405198307917, 120.69965486511522\n",
    "df1.loc[51187, 'latitude'], df1.loc[51187, 'longitude'] = 24.221267190502317, 120.56261325548644\n",
    "df1.loc[51197, 'latitude'], df1.loc[51197, 'longitude'] = 24.221267190502317, 120.56261325548644\n",
    "df1.loc[51198, 'latitude'], df1.loc[51198, 'longitude'] = 24.221267190502317, 120.56261325548644\n",
    "df1.loc[51213, 'latitude'], df1.loc[51213, 'longitude'] = 24.070700787237104, 120.7033858798747\n",
    "df1.loc[51763, 'latitude'], df1.loc[51763, 'longitude'] = 24.223620767613536, 120.57287111432521\n",
    "df1.loc[51800, 'latitude'], df1.loc[51800, 'longitude'] = 24.08516815352729, 120.6393735569866\n",
    "df1.loc[52642, 'latitude'], df1.loc[52642, 'longitude'] = 24.369606620827486, 120.61304494002965\n",
    "df1.loc[53674, 'latitude'], df1.loc[53674, 'longitude'] = 24.31229228565696, 120.71935859912799\n",
    "df1.loc[54521, 'latitude'], df1.loc[54521, 'longitude'] = 24.213280804521894, 120.5744247604845\n",
    "df1.loc[54522, 'latitude'], df1.loc[54522, 'longitude'] = 24.263067366841295, 120.56094478077587\n",
    "df1.loc[54523, 'latitude'], df1.loc[54523, 'longitude'] = 24.263066967991236, 120.56095944185756\n",
    "df1.loc[54556, 'latitude'], df1.loc[54556, 'longitude'] = 24.260269453378882, 120.5666996100911\n",
    "df1.loc[54586, 'latitude'], df1.loc[54586, 'longitude'] = 24.147097731251794, 120.6798176193551\n",
    "df1.loc[54596, 'latitude'], df1.loc[54596, 'longitude'] = 24.147076786502716, 120.67975768555249\n",
    "df1.loc[54597, 'latitude'], df1.loc[54597, 'longitude'] = 24.084126973557655, 120.63899207289103\n",
    "df1.loc[58311, 'latitude'], df1.loc[58311, 'longitude'] = 24.26628171966854, 120.54730276344758"
   ]
  },
  {
   "cell_type": "code",
   "execution_count": 79,
   "id": "399fd58c",
   "metadata": {},
   "outputs": [
    {
     "data": {
      "text/html": [
       "<div>\n",
       "<style scoped>\n",
       "    .dataframe tbody tr th:only-of-type {\n",
       "        vertical-align: middle;\n",
       "    }\n",
       "\n",
       "    .dataframe tbody tr th {\n",
       "        vertical-align: top;\n",
       "    }\n",
       "\n",
       "    .dataframe thead th {\n",
       "        text-align: right;\n",
       "    }\n",
       "</style>\n",
       "<table border=\"1\" class=\"dataframe\">\n",
       "  <thead>\n",
       "    <tr style=\"text-align: right;\">\n",
       "      <th></th>\n",
       "      <th>土地位置建物門牌</th>\n",
       "      <th>longitude</th>\n",
       "      <th>latitude</th>\n",
       "    </tr>\n",
       "  </thead>\n",
       "  <tbody>\n",
       "  </tbody>\n",
       "</table>\n",
       "</div>"
      ],
      "text/plain": [
       "Empty DataFrame\n",
       "Columns: [土地位置建物門牌, longitude, latitude]\n",
       "Index: []"
      ]
     },
     "execution_count": 79,
     "metadata": {},
     "output_type": "execute_result"
    }
   ],
   "source": [
    "missing_data_rows = df1[df1['longitude'].isna() | df1['latitude'].isna()]\n",
    "missing_data_rows = missing_data_rows[['土地位置建物門牌','longitude','latitude']]\n",
    "missing_data_rows"
   ]
  },
  {
   "cell_type": "code",
   "execution_count": 80,
   "id": "0c37457e",
   "metadata": {},
   "outputs": [
    {
     "data": {
      "text/html": [
       "<div>\n",
       "<style scoped>\n",
       "    .dataframe tbody tr th:only-of-type {\n",
       "        vertical-align: middle;\n",
       "    }\n",
       "\n",
       "    .dataframe tbody tr th {\n",
       "        vertical-align: top;\n",
       "    }\n",
       "\n",
       "    .dataframe thead th {\n",
       "        text-align: right;\n",
       "    }\n",
       "</style>\n",
       "<table border=\"1\" class=\"dataframe\">\n",
       "  <thead>\n",
       "    <tr style=\"text-align: right;\">\n",
       "      <th></th>\n",
       "      <th>土地位置建物門牌</th>\n",
       "      <th>longitude</th>\n",
       "      <th>latitude</th>\n",
       "    </tr>\n",
       "  </thead>\n",
       "  <tbody>\n",
       "  </tbody>\n",
       "</table>\n",
       "</div>"
      ],
      "text/plain": [
       "Empty DataFrame\n",
       "Columns: [土地位置建物門牌, longitude, latitude]\n",
       "Index: []"
      ]
     },
     "execution_count": 80,
     "metadata": {},
     "output_type": "execute_result"
    }
   ],
   "source": [
    "missing_data_rows = df2[df2['longitude'].isna() | df2['latitude'].isna()]\n",
    "missing_data_rows = missing_data_rows[['土地位置建物門牌','longitude','latitude']]\n",
    "missing_data_rows"
   ]
  },
  {
   "cell_type": "code",
   "execution_count": 81,
   "id": "bd09fa28",
   "metadata": {},
   "outputs": [],
   "source": [
    "# 用 Haversine 公式計算距離\n",
    "import math\n",
    "\n",
    "def compute_dis(lat1, lon1, lat2, lon2):\n",
    "\n",
    "  # 將經緯度從度數轉為弧度\n",
    "  lat1 = math.radians(lat1)\n",
    "  lon1 = math.radians(lon1)\n",
    "  lat2 = math.radians(lat2)\n",
    "  lon2 = math.radians(lon2)\n",
    "\n",
    "  # 地球半徑 單位:公里\n",
    "  R = 6371\n",
    "\n",
    "  dlat = lat2 - lat1\n",
    "  dlon = lon2 - lon1\n",
    "\n",
    "  distance = 2*R*math.asin(((math.sin(dlat/2))**2 + math.cos(lat1)*math.cos(lat2)*(math.sin(dlon/2))**2)**0.5)\n",
    "\n",
    "  return distance"
   ]
  },
  {
   "cell_type": "code",
   "execution_count": 82,
   "id": "80824267",
   "metadata": {},
   "outputs": [],
   "source": [
    "def compute_points(df1, df2):\n",
    "    points = []\n",
    "    for _, row1 in df1.iterrows():\n",
    "        total_points = 0\n",
    "        lat1, lon1 = row1['latitude'], row1['longitude']\n",
    "        for _, row2 in df2.iterrows():\n",
    "            lat2, lon2 = row2['緯度'], row2['經度']\n",
    "            distance = compute_dis(lat1, lon1, lat2, lon2)\n",
    "            if distance <= 0.5:\n",
    "                total_points += 4\n",
    "            elif 0.5 <= distance < 2:\n",
    "                total_points += 1.5\n",
    "            elif 2 < distance <= 3.5:\n",
    "                total_points += 0.5\n",
    "            elif 3.5 < distance <= 5 :\n",
    "                total_points += 0.1\n",
    "            elif distance > 5:\n",
    "                pass\n",
    "        points.append(total_points)\n",
    "    df1['points'] = points"
   ]
  },
  {
   "cell_type": "code",
   "execution_count": 83,
   "id": "458561f7",
   "metadata": {},
   "outputs": [],
   "source": [
    "compute_points(df1, df_loc)"
   ]
  },
  {
   "cell_type": "code",
   "execution_count": 86,
   "id": "8ca6da8f",
   "metadata": {},
   "outputs": [],
   "source": [
    "compute_points(df2, df_loc)"
   ]
  },
  {
   "cell_type": "code",
   "execution_count": 85,
   "id": "22fd824b",
   "metadata": {},
   "outputs": [],
   "source": [
    "df1.to_csv('dftrain0420.csv')"
   ]
  },
  {
   "cell_type": "code",
   "execution_count": 87,
   "id": "71c30413",
   "metadata": {},
   "outputs": [],
   "source": [
    "df2.to_csv('dfvalid0420.csv')"
   ]
  },
  {
   "cell_type": "code",
   "execution_count": null,
   "id": "4e1da17d",
   "metadata": {},
   "outputs": [],
   "source": []
  }
 ],
 "metadata": {
  "kernelspec": {
   "display_name": "Python 3 (ipykernel)",
   "language": "python",
   "name": "python3"
  },
  "language_info": {
   "codemirror_mode": {
    "name": "ipython",
    "version": 3
   },
   "file_extension": ".py",
   "mimetype": "text/x-python",
   "name": "python",
   "nbconvert_exporter": "python",
   "pygments_lexer": "ipython3",
   "version": "3.11.5"
  }
 },
 "nbformat": 4,
 "nbformat_minor": 5
}

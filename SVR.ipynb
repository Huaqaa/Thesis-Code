{
 "cells": [
  {
   "cell_type": "code",
   "execution_count": 1,
   "id": "170545a6",
   "metadata": {},
   "outputs": [],
   "source": [
    "# 導入所需使用到的套件\n",
    "\n",
    "# 導入 Python 進行資料處理之套件 Pandas，並把它另為 pd \n",
    "import pandas as pd\n",
    "# 導入 Python 處理數值之套件 mumpy，並把它另為 np\n",
    "import numpy as np\n",
    "# 繪圖\n",
    "import matplotlib.pyplot as plt\n",
    "# 導入 Python 處理時間套件\n",
    "import time\n",
    "\n",
    "# 統計套件，欲作均勻分布之隨機抽取\n",
    "from scipy.stats import uniform\n",
    "# 分割訓練集、測試集、驗證集\n",
    "from sklearn.model_selection import train_test_split\n",
    "from sklearn.metrics import r2_score, mean_squared_error\n",
    "from sklearn.preprocessing import StandardScaler\n",
    "from sklearn.svm import SVR\n",
    "from sklearn.ensemble import RandomForestRegressor as rfr\n",
    "from sklearn.model_selection import RandomizedSearchCV, GridSearchCV, KFold"
   ]
  },
  {
   "cell_type": "code",
   "execution_count": 2,
   "id": "dc510d4a",
   "metadata": {},
   "outputs": [],
   "source": [
    "df = pd.read_csv('dftrain0420.csv')"
   ]
  },
  {
   "cell_type": "code",
   "execution_count": 3,
   "id": "8578a74e",
   "metadata": {},
   "outputs": [],
   "source": [
    "# 刪除不要用的 columns\n",
    "df = df.drop(['Unnamed: 0','土地位置建物門牌','交易年月日','建築完成年月',\n",
    "             'new_date','address','longitude','latitude'],axis=1)"
   ]
  },
  {
   "cell_type": "code",
   "execution_count": 4,
   "id": "413f5d29",
   "metadata": {},
   "outputs": [
    {
     "name": "stdout",
     "output_type": "stream",
     "text": [
      "<class 'pandas.core.frame.DataFrame'>\n",
      "RangeIndex: 66479 entries, 0 to 66478\n",
      "Data columns (total 25 columns):\n",
      " #   Column         Non-Null Count  Dtype  \n",
      "---  ------         --------------  -----  \n",
      " 0   鄉鎮市區           66479 non-null  int64  \n",
      " 1   土地移轉總坪數        66479 non-null  float64\n",
      " 2   都市土地使用分區       66479 non-null  int64  \n",
      " 3   移轉層次           66479 non-null  int64  \n",
      " 4   總樓層數           66479 non-null  int64  \n",
      " 5   建物型態           66479 non-null  int64  \n",
      " 6   主要建材           66479 non-null  int64  \n",
      " 7   建物移轉總坪數        66479 non-null  float64\n",
      " 8   建物現況格局-房       66479 non-null  int64  \n",
      " 9   建物現況格局-廳       66479 non-null  int64  \n",
      " 10  建物現況格局-衛       66479 non-null  int64  \n",
      " 11  建物現況格局-隔間      66479 non-null  int64  \n",
      " 12  有無管理組織         66479 non-null  int64  \n",
      " 13  總價元            66479 non-null  float64\n",
      " 14  主建物坪數          66479 non-null  float64\n",
      " 15  附屬建物坪數         66479 non-null  float64\n",
      " 16  陽台坪數           66479 non-null  float64\n",
      " 17  土地數量           66479 non-null  int64  \n",
      " 18  建物數量           66479 non-null  int64  \n",
      " 19  屋齡             66479 non-null  float64\n",
      " 20  五大行庫平均房貸利率(%)  66479 non-null  float64\n",
      " 21  消費者物價指數        66479 non-null  float64\n",
      " 22  M1b貨幣供給額(億元)   66479 non-null  int64  \n",
      " 23  經濟成長率(%)       66479 non-null  float64\n",
      " 24  points         66479 non-null  float64\n",
      "dtypes: float64(11), int64(14)\n",
      "memory usage: 12.7 MB\n"
     ]
    }
   ],
   "source": [
    "# check\n",
    "df.info()"
   ]
  },
  {
   "cell_type": "code",
   "execution_count": 5,
   "id": "3c5d5c69",
   "metadata": {},
   "outputs": [],
   "source": [
    "# 設定依變數與自變數，即設定權重與標籤\n",
    "\n",
    "# 權重\n",
    "x = df.drop(['總價元'],axis=1)\n",
    "\n",
    "# 標籤\n",
    "y = df['總價元']"
   ]
  },
  {
   "cell_type": "code",
   "execution_count": 6,
   "id": "8cc806b3",
   "metadata": {},
   "outputs": [],
   "source": [
    "# 先將 x, y 依照 80%、20% 的比例分割成 訓練集與測試集\n",
    "x_train, x_test, y_train, y_test = train_test_split(x,y,test_size=0.2,random_state=42)\n",
    "\n",
    "# 再將訓練集依照 75%、25% 的比例分割成 訓練集與驗證集 => 訓練集、驗證集、測試集比例為 60%、20%、20%\n",
    "x_train, x_val, y_train, y_val = train_test_split(x_train, y_train, test_size=0.25, random_state=42)\n",
    "\n",
    "# 將 x_train、x_test、x_val 轉換成 numpy 格式\n",
    "x_train = x_train.to_numpy()\n",
    "x_test = x_test.to_numpy()\n",
    "x_val = x_val.to_numpy()"
   ]
  },
  {
   "cell_type": "code",
   "execution_count": 7,
   "id": "22a17b64",
   "metadata": {},
   "outputs": [],
   "source": [
    "# 將 x_train、x_test、x_val 進行資料標準化\n",
    "scaler = StandardScaler()\n",
    "scaler.fit(x_train)\n",
    "x_train = scaler.transform(x_train)\n",
    "x_test = scaler.transform(x_test)\n",
    "x_val = scaler.transform(x_val)"
   ]
  },
  {
   "cell_type": "code",
   "execution_count": 8,
   "id": "68ba18a6",
   "metadata": {},
   "outputs": [],
   "source": [
    "# 計算誤差之 Function，輸出 RMSE 與 R^2\n",
    "def compute_errors(y,pred):\n",
    "    \n",
    "    mse = mean_squared_error(y, pred)\n",
    "    rmse = np.sqrt(mse)\n",
    "    r2 = r2_score(y, pred)\n",
    "    \n",
    "    error_names = ['RMSE', 'R^2']\n",
    "    errors = [rmse, r2]\n",
    "    \n",
    "    for name, error in zip(error_names, errors):\n",
    "        print(f'{name} : {error:.6f}')"
   ]
  },
  {
   "cell_type": "code",
   "execution_count": 9,
   "id": "49308f59",
   "metadata": {},
   "outputs": [
    {
     "name": "stdout",
     "output_type": "stream",
     "text": [
      "Execution time : 150.983 seconds\n",
      "{'C': 1.0, 'cache_size': 200, 'coef0': 0.0, 'degree': 3, 'epsilon': 0.1, 'gamma': 'scale', 'kernel': 'rbf', 'max_iter': -1, 'shrinking': True, 'tol': 0.001, 'verbose': False}\n"
     ]
    }
   ],
   "source": [
    "# 紀錄開始時間\n",
    "start = time.time()\n",
    "\n",
    "# 模型訓練\n",
    "train_model1 = SVR().fit(x_train, y_train)\n",
    "\n",
    "# 紀錄結束時間\n",
    "end = time.time()\n",
    "\n",
    "# 顯示執行時間\n",
    "print(f'Execution time : {end - start :.3f} seconds')\n",
    "\n",
    "# 顯示預設超參數(所使用超參數)\n",
    "print(train_model1.get_params())"
   ]
  },
  {
   "cell_type": "code",
   "execution_count": 10,
   "id": "f8d8ed17",
   "metadata": {},
   "outputs": [],
   "source": [
    "# 預測測試集\n",
    "train_pred1 = train_model1.predict(x_test)\n",
    "\n",
    "# 預測驗證集\n",
    "val_pred1 = train_model1.predict(x_val)"
   ]
  },
  {
   "cell_type": "code",
   "execution_count": 11,
   "id": "f31afdbb",
   "metadata": {},
   "outputs": [
    {
     "name": "stdout",
     "output_type": "stream",
     "text": [
      "----------Experiment 1----------\n",
      "Training Error\n",
      "RMSE : 252.492223\n",
      "R^2 : 0.677384\n",
      "--------------------------------\n",
      "Valid Error\n",
      "RMSE : 253.881837\n",
      "R^2 : 0.673741\n"
     ]
    }
   ],
   "source": [
    "print('----------Experiment 1----------')\n",
    "print('Training Error')\n",
    "compute_errors(y_test, train_pred1)\n",
    "print('--------------------------------')\n",
    "print('Valid Error')\n",
    "compute_errors(y_val, val_pred1)"
   ]
  },
  {
   "cell_type": "code",
   "execution_count": 13,
   "id": "93846c32",
   "metadata": {},
   "outputs": [
    {
     "name": "stdout",
     "output_type": "stream",
     "text": [
      "Execution time : 196.660 seconds\n",
      "{'bootstrap': True, 'ccp_alpha': 0.0, 'criterion': 'squared_error', 'max_depth': None, 'max_features': 1.0, 'max_leaf_nodes': None, 'max_samples': None, 'min_impurity_decrease': 0.0, 'min_samples_leaf': 1, 'min_samples_split': 2, 'min_weight_fraction_leaf': 0.0, 'n_estimators': 100, 'n_jobs': None, 'oob_score': False, 'random_state': 42, 'verbose': 0, 'warm_start': False}\n"
     ]
    }
   ],
   "source": [
    "# 紀錄開始時間\n",
    "start = time.time()\n",
    "\n",
    "# 訓練隨機森林迴歸模型，以取得模型權重做特徵選擇\n",
    "forest_model = rfr(random_state=42).fit(x_train, y_train)\n",
    "\n",
    "# 紀錄結束時間\n",
    "end = time.time()\n",
    "\n",
    "# 顯示執行時間\n",
    "print(f'Execution time : {end - start :.3f} seconds')\n",
    "\n",
    "# 顯示預設超參數(所使用超參數)\n",
    "print(forest_model.get_params())"
   ]
  },
  {
   "cell_type": "code",
   "execution_count": 14,
   "id": "540087a6",
   "metadata": {},
   "outputs": [],
   "source": [
    "feature_importances = forest_model.feature_importances_"
   ]
  },
  {
   "cell_type": "code",
   "execution_count": 15,
   "id": "7bfa6b6f",
   "metadata": {},
   "outputs": [],
   "source": [
    "median_fi = np.median(feature_importances)\n",
    "x_train_new = x_train[:,feature_importances >= median_fi]\n",
    "x_test_new = x_test[:,feature_importances >= median_fi]\n",
    "x_val_new = x_val[:,feature_importances >= median_fi]"
   ]
  },
  {
   "cell_type": "code",
   "execution_count": 16,
   "id": "79a44221",
   "metadata": {},
   "outputs": [
    {
     "data": {
      "text/plain": [
       "0.007505298375173299"
      ]
     },
     "execution_count": 16,
     "metadata": {},
     "output_type": "execute_result"
    }
   ],
   "source": [
    "median_fi"
   ]
  },
  {
   "cell_type": "code",
   "execution_count": 17,
   "id": "084f8880",
   "metadata": {},
   "outputs": [
    {
     "name": "stdout",
     "output_type": "stream",
     "text": [
      "Execution time : 139.821 seconds\n",
      "{'C': 1.0, 'cache_size': 200, 'coef0': 0.0, 'degree': 3, 'epsilon': 0.1, 'gamma': 'scale', 'kernel': 'rbf', 'max_iter': -1, 'shrinking': True, 'tol': 0.001, 'verbose': False}\n"
     ]
    }
   ],
   "source": [
    "# 紀錄開始時間\n",
    "start = time.time()\n",
    "\n",
    "# 模型訓練\n",
    "train_model2 = SVR().fit(x_train_new, y_train)\n",
    "\n",
    "# 紀錄結束時間\n",
    "end = time.time()\n",
    "\n",
    "# 顯示執行時間\n",
    "print(f'Execution time : {end - start :.3f} seconds')\n",
    "\n",
    "# 顯示預設超參數(所使用超參數)\n",
    "print(train_model2.get_params())"
   ]
  },
  {
   "cell_type": "code",
   "execution_count": 18,
   "id": "54505bc1",
   "metadata": {},
   "outputs": [],
   "source": [
    "# 預測測試集\n",
    "train_pred2 = train_model2.predict(x_test_new)\n",
    "# 預測驗證集\n",
    "val_pred2 = train_model2.predict(x_val_new)"
   ]
  },
  {
   "cell_type": "code",
   "execution_count": 19,
   "id": "8fdd4f58",
   "metadata": {},
   "outputs": [
    {
     "name": "stdout",
     "output_type": "stream",
     "text": [
      "----------Experiment 2----------\n",
      "Training Error\n",
      "RMSE : 243.192237\n",
      "R^2 : 0.700712\n",
      "--------------------------------\n",
      "Valid Error\n",
      "RMSE : 243.782654\n",
      "R^2 : 0.699182\n"
     ]
    }
   ],
   "source": [
    "print('----------Experiment 2----------')\n",
    "print('Training Error')\n",
    "compute_errors(y_test, train_pred2)\n",
    "print('--------------------------------')\n",
    "print('Valid Error') \n",
    "compute_errors(y_val, val_pred2)"
   ]
  },
  {
   "cell_type": "code",
   "execution_count": 251,
   "id": "225bf859",
   "metadata": {},
   "outputs": [
    {
     "name": "stdout",
     "output_type": "stream",
     "text": [
      "The best model score : 200.60464398923034\n",
      "The best model param : {'C': 15.233283058799998, 'epsilon': 1.0656320330745594, 'gamma': 'auto', 'kernel': 'rbf'}\n",
      "Execution time : 14243.901 seconds\n"
     ]
    }
   ],
   "source": [
    "start = time.time()\n",
    "\n",
    "cv = KFold(n_splits=10, shuffle=True, random_state=42)\n",
    "scoring='neg_mean_squared_error'\n",
    "param_dict = {\n",
    "    'kernel':['linear','poly','rbf','sigmoid'],\n",
    "    'C': uniform(1,15),\n",
    "    'epsilon':uniform(0.1, 1),\n",
    "    'gamma':['scale','auto'],\n",
    "    'coef0':unifrom(-1,1)\n",
    "}\n",
    "\n",
    "rscv = RandomizedSearchCV(SVR(), param_dict, n_iter=20, cv=cv, scoring=scoring, random_state=42)\n",
    "rscv.fit(x_train_new, y_train)\n",
    "\n",
    "print('The best model score :', np.sqrt(-rscv.best_score_))\n",
    "print('The best model param :', rscv.best_params_)\n",
    "\n",
    "end = time.time()\n",
    "\n",
    "print(f'Execution time : {end - start :.3f} seconds')"
   ]
  },
  {
   "cell_type": "code",
   "execution_count": 252,
   "id": "27a7f847",
   "metadata": {},
   "outputs": [],
   "source": [
    "kernel, gamma = rscv.best_params_['kernel'], rscv.best_params_['gamma']\n",
    "c, e = rscv.best_params_['C'], rscv.best_params_['epsilon']"
   ]
  },
  {
   "cell_type": "code",
   "execution_count": 253,
   "id": "55d31c66",
   "metadata": {},
   "outputs": [
    {
     "name": "stdout",
     "output_type": "stream",
     "text": [
      "The best model score :  197.37914619398398\n",
      "The best model param : {'C': 22.849924588199997, 'epsilon': 1.5984480496118392, 'gamma': 'auto', 'kernel': 'rbf'}\n",
      "Execution time : 7009.077 seconds\n"
     ]
    }
   ],
   "source": [
    "start = time.time()\n",
    "\n",
    "cv = KFold(n_splits=10, shuffle=True, random_state=42)\n",
    "\n",
    "param_grid = {\n",
    "    'kernel':[kernel],\n",
    "    'C':[2*c/3, c, c*3/2],\n",
    "    'epsilon':[2*e/3, e, e*3/2],\n",
    "    'gamma':[gamma]\n",
    "}\n",
    "\n",
    "\n",
    "gscv = GridSearchCV(SVR(), param_grid, cv=cv, scoring='neg_mean_squared_error').fit(x_train_new, y_train)\n",
    "\n",
    "print('The best model score : ', np.sqrt(-gscv.best_score_))\n",
    "print('The best model param :', gscv.best_params_)\n",
    "\n",
    "end = time.time()\n",
    "\n",
    "print(f'Execution time : {end - start :.3f} seconds')"
   ]
  },
  {
   "cell_type": "code",
   "execution_count": 254,
   "id": "50ee04fa",
   "metadata": {},
   "outputs": [],
   "source": [
    "svr_param = {'kernel': gscv.best_params_['kernel'],\n",
    "             'C': gscv.best_params_['C'],\n",
    "             'epsilon': gscv.best_params_['epsilon'],\n",
    "             'gamma': gscv.best_params_['gamma']}"
   ]
  },
  {
   "cell_type": "code",
   "execution_count": 255,
   "id": "65f53d96",
   "metadata": {},
   "outputs": [
    {
     "name": "stdout",
     "output_type": "stream",
     "text": [
      "Execution time : 82.338584 seconds\n"
     ]
    }
   ],
   "source": [
    "# 紀錄開始時間\n",
    "start = time.time()\n",
    "\n",
    "train_model3 = SVR(**svr_param).fit(x_train_new, y_train)\n",
    "\n",
    "\n",
    "# 紀錄結束時間\n",
    "end = time.time()\n",
    "\n",
    "# 顯示執行時間\n",
    "print(f'Execution time : {end - start :.6f} seconds')"
   ]
  },
  {
   "cell_type": "code",
   "execution_count": 256,
   "id": "7ad4b624",
   "metadata": {},
   "outputs": [],
   "source": [
    "# 預測測試集\n",
    "train_pred3 = train_model3.predict(x_test_new)\n",
    "# 預測驗證集\n",
    "val_pred3 = train_model3.predict(x_val_new)"
   ]
  },
  {
   "cell_type": "code",
   "execution_count": 257,
   "id": "5a066039",
   "metadata": {},
   "outputs": [
    {
     "name": "stdout",
     "output_type": "stream",
     "text": [
      "----------Experiment 3----------\n",
      "Training Error\n",
      "RMSE : 197.495173\n",
      "R^2 : 0.802620\n",
      "-------------------------------- \n",
      "RMSE : 195.629884\n",
      "R^2 : 0.806282\n",
      "--------------------------------\n"
     ]
    }
   ],
   "source": [
    "print('----------Experiment 3----------')\n",
    "print('Training Error')\n",
    "compute_errors(y_test, train_pred3)\n",
    "print('-------------------------------- ')         \n",
    "compute_errors(y_val, val_pred3)\n",
    "print('--------------------------------')"
   ]
  },
  {
   "cell_type": "code",
   "execution_count": 258,
   "id": "60f4af19",
   "metadata": {},
   "outputs": [
    {
     "name": "stdout",
     "output_type": "stream",
     "text": [
      "<class 'pandas.core.frame.DataFrame'>\n",
      "RangeIndex: 15916 entries, 0 to 15915\n",
      "Data columns (total 35 columns):\n",
      " #   Column         Non-Null Count  Dtype  \n",
      "---  ------         --------------  -----  \n",
      " 0   Unnamed: 0     15916 non-null  int64  \n",
      " 1   鄉鎮市區           15916 non-null  int64  \n",
      " 2   土地位置建物門牌       15916 non-null  object \n",
      " 3   土地移轉總坪數        15916 non-null  float64\n",
      " 4   都市土地使用分區       15916 non-null  int64  \n",
      " 5   交易年月日          15916 non-null  object \n",
      " 6   移轉層次           15916 non-null  int64  \n",
      " 7   總樓層數           15916 non-null  int64  \n",
      " 8   建物型態           15916 non-null  int64  \n",
      " 9   主要用途           15916 non-null  object \n",
      " 10  主要建材           15916 non-null  int64  \n",
      " 11  建築完成年月         15916 non-null  object \n",
      " 12  建物移轉總坪數        15916 non-null  float64\n",
      " 13  建物現況格局-房       15916 non-null  int64  \n",
      " 14  建物現況格局-廳       15916 non-null  int64  \n",
      " 15  建物現況格局-衛       15916 non-null  int64  \n",
      " 16  建物現況格局-隔間      15916 non-null  int64  \n",
      " 17  有無管理組織         15916 non-null  int64  \n",
      " 18  總價元            15916 non-null  float64\n",
      " 19  主建物坪數          15916 non-null  float64\n",
      " 20  附屬建物坪數         15916 non-null  float64\n",
      " 21  陽台坪數           15916 non-null  float64\n",
      " 22  土地數量           15916 non-null  int64  \n",
      " 23  建物數量           15916 non-null  int64  \n",
      " 24  車位數量           15916 non-null  int64  \n",
      " 25  屋齡             15916 non-null  float64\n",
      " 26  new_date       15916 non-null  object \n",
      " 27  五大行庫平均房貸利率(%)  15916 non-null  float64\n",
      " 28  消費者物價指數        15916 non-null  float64\n",
      " 29  M1b貨幣供給額(億元)   15916 non-null  int64  \n",
      " 30  經濟成長率(%)       15916 non-null  float64\n",
      " 31  address        15916 non-null  object \n",
      " 32  longitude      15916 non-null  float64\n",
      " 33  latitude       15916 non-null  float64\n",
      " 34  points         15916 non-null  float64\n",
      "dtypes: float64(13), int64(16), object(6)\n",
      "memory usage: 4.3+ MB\n"
     ]
    }
   ],
   "source": [
    "df112 = pd.read_csv('dfvalid0420.csv')\n",
    "df112.info()"
   ]
  },
  {
   "cell_type": "code",
   "execution_count": 259,
   "id": "9a8e24cd",
   "metadata": {},
   "outputs": [],
   "source": [
    "df112 = df112.drop(['Unnamed: 0','土地位置建物門牌','交易年月日','建築完成年月','主要用途','車位數量',\n",
    "             'new_date','address','longitude','latitude'],axis=1)"
   ]
  },
  {
   "cell_type": "code",
   "execution_count": 260,
   "id": "21ca0399",
   "metadata": {},
   "outputs": [],
   "source": [
    "new_data = df112.drop(['總價元'],axis=1)"
   ]
  },
  {
   "cell_type": "code",
   "execution_count": 261,
   "id": "0d21a89d",
   "metadata": {},
   "outputs": [],
   "source": [
    "selected_columns = new_data.columns[feature_importances >= median_fi]\n",
    "new_data = new_data[selected_columns]"
   ]
  },
  {
   "cell_type": "code",
   "execution_count": 262,
   "id": "10ee89b9",
   "metadata": {},
   "outputs": [],
   "source": [
    "new_data = new_data.to_numpy()\n",
    "scaler = StandardScaler().fit(new_data)\n",
    "new_data = scaler.transform(new_data)"
   ]
  },
  {
   "cell_type": "code",
   "execution_count": 263,
   "id": "f612ec93",
   "metadata": {},
   "outputs": [
    {
     "name": "stdout",
     "output_type": "stream",
     "text": [
      "Test new data\n",
      "RMSE : 290.015641\n",
      "R^2 : 0.668997\n",
      "None\n",
      "Execution time : 59.440 seconds\n"
     ]
    }
   ],
   "source": [
    "start = time.time()\n",
    "new_data_pred = model.predict(new_data)\n",
    "\n",
    "print('Test new data')\n",
    "print(compute_errors(df112['總價元'], new_data_pred))\n",
    "\n",
    "end = time.time()\n",
    "\n",
    "print(f'Execution time : {end - start :.3f} seconds')"
   ]
  }
 ],
 "metadata": {
  "kernelspec": {
   "display_name": "Python 3 (ipykernel)",
   "language": "python",
   "name": "python3"
  },
  "language_info": {
   "codemirror_mode": {
    "name": "ipython",
    "version": 3
   },
   "file_extension": ".py",
   "mimetype": "text/x-python",
   "name": "python",
   "nbconvert_exporter": "python",
   "pygments_lexer": "ipython3",
   "version": "3.11.5"
  }
 },
 "nbformat": 4,
 "nbformat_minor": 5
}
